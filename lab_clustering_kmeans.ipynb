{
  "cells": [
    {
      "cell_type": "markdown",
      "metadata": {
        "id": "r7H-PzjB8HwW"
      },
      "source": [
        "**Clustering avec Kmeans**"
      ]
    },
    {
      "cell_type": "markdown",
      "metadata": {
        "id": "TPjaqXMU8QwN"
      },
      "source": [
        "Les données à regrouper"
      ]
    },
    {
      "cell_type": "code",
      "execution_count": 4,
      "metadata": {
        "id": "_OeP9pkgGWcw"
      },
      "outputs": [],
      "source": [
        "import pandas as pd\n",
        "\n",
        "df_employes=pd.DataFrame([[1200,25],\n",
        "                 [1300,27],\n",
        "                 [1100,27],\n",
        "                 [2500,49],\n",
        "                 [2400,47],\n",
        "                 [2600,45]], \n",
        "                 columns=['salaire','age'])"
      ]
    },
    {
      "cell_type": "markdown",
      "metadata": {
        "id": "DK0hfldC8hT9"
      },
      "source": [
        "Apprentissage avec Kmeans"
      ]
    },
    {
      "cell_type": "code",
      "execution_count": 5,
      "metadata": {
        "id": "g9upC0368SxM"
      },
      "outputs": [
        {
          "data": {
            "text/html": [
              "<style>#sk-container-id-1 {color: black;background-color: white;}#sk-container-id-1 pre{padding: 0;}#sk-container-id-1 div.sk-toggleable {background-color: white;}#sk-container-id-1 label.sk-toggleable__label {cursor: pointer;display: block;width: 100%;margin-bottom: 0;padding: 0.3em;box-sizing: border-box;text-align: center;}#sk-container-id-1 label.sk-toggleable__label-arrow:before {content: \"▸\";float: left;margin-right: 0.25em;color: #696969;}#sk-container-id-1 label.sk-toggleable__label-arrow:hover:before {color: black;}#sk-container-id-1 div.sk-estimator:hover label.sk-toggleable__label-arrow:before {color: black;}#sk-container-id-1 div.sk-toggleable__content {max-height: 0;max-width: 0;overflow: hidden;text-align: left;background-color: #f0f8ff;}#sk-container-id-1 div.sk-toggleable__content pre {margin: 0.2em;color: black;border-radius: 0.25em;background-color: #f0f8ff;}#sk-container-id-1 input.sk-toggleable__control:checked~div.sk-toggleable__content {max-height: 200px;max-width: 100%;overflow: auto;}#sk-container-id-1 input.sk-toggleable__control:checked~label.sk-toggleable__label-arrow:before {content: \"▾\";}#sk-container-id-1 div.sk-estimator input.sk-toggleable__control:checked~label.sk-toggleable__label {background-color: #d4ebff;}#sk-container-id-1 div.sk-label input.sk-toggleable__control:checked~label.sk-toggleable__label {background-color: #d4ebff;}#sk-container-id-1 input.sk-hidden--visually {border: 0;clip: rect(1px 1px 1px 1px);clip: rect(1px, 1px, 1px, 1px);height: 1px;margin: -1px;overflow: hidden;padding: 0;position: absolute;width: 1px;}#sk-container-id-1 div.sk-estimator {font-family: monospace;background-color: #f0f8ff;border: 1px dotted black;border-radius: 0.25em;box-sizing: border-box;margin-bottom: 0.5em;}#sk-container-id-1 div.sk-estimator:hover {background-color: #d4ebff;}#sk-container-id-1 div.sk-parallel-item::after {content: \"\";width: 100%;border-bottom: 1px solid gray;flex-grow: 1;}#sk-container-id-1 div.sk-label:hover label.sk-toggleable__label {background-color: #d4ebff;}#sk-container-id-1 div.sk-serial::before {content: \"\";position: absolute;border-left: 1px solid gray;box-sizing: border-box;top: 0;bottom: 0;left: 50%;z-index: 0;}#sk-container-id-1 div.sk-serial {display: flex;flex-direction: column;align-items: center;background-color: white;padding-right: 0.2em;padding-left: 0.2em;position: relative;}#sk-container-id-1 div.sk-item {position: relative;z-index: 1;}#sk-container-id-1 div.sk-parallel {display: flex;align-items: stretch;justify-content: center;background-color: white;position: relative;}#sk-container-id-1 div.sk-item::before, #sk-container-id-1 div.sk-parallel-item::before {content: \"\";position: absolute;border-left: 1px solid gray;box-sizing: border-box;top: 0;bottom: 0;left: 50%;z-index: -1;}#sk-container-id-1 div.sk-parallel-item {display: flex;flex-direction: column;z-index: 1;position: relative;background-color: white;}#sk-container-id-1 div.sk-parallel-item:first-child::after {align-self: flex-end;width: 50%;}#sk-container-id-1 div.sk-parallel-item:last-child::after {align-self: flex-start;width: 50%;}#sk-container-id-1 div.sk-parallel-item:only-child::after {width: 0;}#sk-container-id-1 div.sk-dashed-wrapped {border: 1px dashed gray;margin: 0 0.4em 0.5em 0.4em;box-sizing: border-box;padding-bottom: 0.4em;background-color: white;}#sk-container-id-1 div.sk-label label {font-family: monospace;font-weight: bold;display: inline-block;line-height: 1.2em;}#sk-container-id-1 div.sk-label-container {text-align: center;}#sk-container-id-1 div.sk-container {/* jupyter's `normalize.less` sets `[hidden] { display: none; }` but bootstrap.min.css set `[hidden] { display: none !important; }` so we also need the `!important` here to be able to override the default hidden behavior on the sphinx rendered scikit-learn.org. See: https://github.com/scikit-learn/scikit-learn/issues/21755 */display: inline-block !important;position: relative;}#sk-container-id-1 div.sk-text-repr-fallback {display: none;}</style><div id=\"sk-container-id-1\" class=\"sk-top-container\"><div class=\"sk-text-repr-fallback\"><pre>KMeans(n_clusters=2)</pre><b>In a Jupyter environment, please rerun this cell to show the HTML representation or trust the notebook. <br />On GitHub, the HTML representation is unable to render, please try loading this page with nbviewer.org.</b></div><div class=\"sk-container\" hidden><div class=\"sk-item\"><div class=\"sk-estimator sk-toggleable\"><input class=\"sk-toggleable__control sk-hidden--visually\" id=\"sk-estimator-id-1\" type=\"checkbox\" checked><label for=\"sk-estimator-id-1\" class=\"sk-toggleable__label sk-toggleable__label-arrow\">KMeans</label><div class=\"sk-toggleable__content\"><pre>KMeans(n_clusters=2)</pre></div></div></div></div></div>"
            ],
            "text/plain": [
              "KMeans(n_clusters=2)"
            ]
          },
          "execution_count": 5,
          "metadata": {},
          "output_type": "execute_result"
        }
      ],
      "source": [
        "from sklearn.cluster import KMeans\n",
        "kmeans = KMeans(n_clusters=2)\n",
        "kmeans.fit(df_employes)"
      ]
    },
    {
      "cell_type": "markdown",
      "metadata": {
        "id": "JUqqpNYKF5w3"
      },
      "source": [
        "Test avec donénes de test"
      ]
    },
    {
      "cell_type": "code",
      "execution_count": 6,
      "metadata": {
        "colab": {
          "base_uri": "https://localhost:8080/",
          "height": 81
        },
        "id": "H6_DYvPU9RJc",
        "outputId": "1f40fa57-61e3-465a-8e8b-813faeeba9a6"
      },
      "outputs": [
        {
          "data": {
            "text/html": [
              "<div>\n",
              "<style scoped>\n",
              "    .dataframe tbody tr th:only-of-type {\n",
              "        vertical-align: middle;\n",
              "    }\n",
              "\n",
              "    .dataframe tbody tr th {\n",
              "        vertical-align: top;\n",
              "    }\n",
              "\n",
              "    .dataframe thead th {\n",
              "        text-align: right;\n",
              "    }\n",
              "</style>\n",
              "<table border=\"1\" class=\"dataframe\">\n",
              "  <thead>\n",
              "    <tr style=\"text-align: right;\">\n",
              "      <th></th>\n",
              "      <th>salaire</th>\n",
              "      <th>age</th>\n",
              "    </tr>\n",
              "  </thead>\n",
              "  <tbody>\n",
              "    <tr>\n",
              "      <th>0</th>\n",
              "      <td>1300.67</td>\n",
              "      <td>28</td>\n",
              "    </tr>\n",
              "  </tbody>\n",
              "</table>\n",
              "</div>"
            ],
            "text/plain": [
              "   salaire  age\n",
              "0  1300.67   28"
            ]
          },
          "execution_count": 6,
          "metadata": {},
          "output_type": "execute_result"
        }
      ],
      "source": [
        "employe_new=pd.DataFrame([[1300.67,28]], columns=['salaire','age'])\n",
        "employe_new"
      ]
    },
    {
      "cell_type": "code",
      "execution_count": 7,
      "metadata": {
        "colab": {
          "base_uri": "https://localhost:8080/"
        },
        "id": "_Rbu6w6k9JgX",
        "outputId": "042466c6-aa03-486b-8fa2-c457fd227aa2"
      },
      "outputs": [
        {
          "data": {
            "text/plain": [
              "array([[1200.        ,   26.33333333],\n",
              "       [2500.        ,   47.        ]])"
            ]
          },
          "execution_count": 7,
          "metadata": {},
          "output_type": "execute_result"
        }
      ],
      "source": [
        "#\n",
        "kmeans.predict(employe_new)\n",
        "kmeans.cluster_centers_\n"
      ]
    },
    {
      "cell_type": "markdown",
      "metadata": {
        "id": "99dO6auJ-HC0"
      },
      "source": [
        "**Clustering des données réelles**"
      ]
    },
    {
      "cell_type": "code",
      "execution_count": 27,
      "metadata": {
        "colab": {
          "base_uri": "https://localhost:8080/"
        },
        "id": "d4U5hM0m9oTF",
        "outputId": "ed33e75f-cdd3-4c98-95af-48afa40e43bd"
      },
      "outputs": [
        {
          "ename": "ModuleNotFoundError",
          "evalue": "No module named 'google'",
          "output_type": "error",
          "traceback": [
            "\u001b[1;31m---------------------------------------------------------------------------\u001b[0m",
            "\u001b[1;31mModuleNotFoundError\u001b[0m                       Traceback (most recent call last)",
            "\u001b[1;32me:\\study\\IRM 2\\AI\\lab_clustering_kmeans.ipynb Cell 10\u001b[0m in \u001b[0;36m<cell line: 1>\u001b[1;34m()\u001b[0m\n\u001b[1;32m----> <a href='vscode-notebook-cell:/e%3A/study/IRM%202/AI/lab_clustering_kmeans.ipynb#X12sZmlsZQ%3D%3D?line=0'>1</a>\u001b[0m \u001b[39mfrom\u001b[39;00m \u001b[39mgoogle\u001b[39;00m\u001b[39m.\u001b[39;00m\u001b[39mcolab\u001b[39;00m \u001b[39mimport\u001b[39;00m drive\n\u001b[0;32m      <a href='vscode-notebook-cell:/e%3A/study/IRM%202/AI/lab_clustering_kmeans.ipynb#X12sZmlsZQ%3D%3D?line=1'>2</a>\u001b[0m drive\u001b[39m.\u001b[39mmount(\u001b[39m'\u001b[39m\u001b[39m/content/drive\u001b[39m\u001b[39m'\u001b[39m)\n",
            "\u001b[1;31mModuleNotFoundError\u001b[0m: No module named 'google'"
          ]
        }
      ],
      "source": [
        "from google.colab import drive\n",
        "drive.mount('/content/drive')"
      ]
    },
    {
      "cell_type": "code",
      "execution_count": null,
      "metadata": {
        "id": "2UEn8-vr-1ws"
      },
      "outputs": [],
      "source": [
        "data_path='/content/drive/MyDrive/Colab Notebooks/irm2/employes.csv'"
      ]
    },
    {
      "cell_type": "code",
      "execution_count": 35,
      "metadata": {},
      "outputs": [],
      "source": [
        "data_path=\"./data/employes (1).csv\""
      ]
    },
    {
      "cell_type": "markdown",
      "metadata": {
        "id": "L3AxTajbGFPv"
      },
      "source": [
        "Charger les données CSV employes.csv à partir de Google Drive"
      ]
    },
    {
      "cell_type": "code",
      "execution_count": 36,
      "metadata": {
        "colab": {
          "base_uri": "https://localhost:8080/",
          "height": 457
        },
        "id": "HiS6KX5m-1uG",
        "outputId": "552da993-1c4c-4f0b-f306-926c845d5572"
      },
      "outputs": [
        {
          "data": {
            "text/html": [
              "<div>\n",
              "<style scoped>\n",
              "    .dataframe tbody tr th:only-of-type {\n",
              "        vertical-align: middle;\n",
              "    }\n",
              "\n",
              "    .dataframe tbody tr th {\n",
              "        vertical-align: top;\n",
              "    }\n",
              "\n",
              "    .dataframe thead th {\n",
              "        text-align: right;\n",
              "    }\n",
              "</style>\n",
              "<table border=\"1\" class=\"dataframe\">\n",
              "  <thead>\n",
              "    <tr style=\"text-align: right;\">\n",
              "      <th></th>\n",
              "      <th>salaire</th>\n",
              "      <th>prime</th>\n",
              "      <th>etat civil</th>\n",
              "      <th>date recrutement</th>\n",
              "    </tr>\n",
              "    <tr>\n",
              "      <th>nom</th>\n",
              "      <th></th>\n",
              "      <th></th>\n",
              "      <th></th>\n",
              "      <th></th>\n",
              "    </tr>\n",
              "  </thead>\n",
              "  <tbody>\n",
              "    <tr>\n",
              "      <th>Ali</th>\n",
              "      <td>1200.675</td>\n",
              "      <td>100.560</td>\n",
              "      <td>celibataire</td>\n",
              "      <td>20/10/2018</td>\n",
              "    </tr>\n",
              "    <tr>\n",
              "      <th>Sonia</th>\n",
              "      <td>2800.786</td>\n",
              "      <td>400.876</td>\n",
              "      <td>marie</td>\n",
              "      <td>30/11/2005</td>\n",
              "    </tr>\n",
              "    <tr>\n",
              "      <th>Rahma</th>\n",
              "      <td>NaN</td>\n",
              "      <td>130.987</td>\n",
              "      <td>celibataire</td>\n",
              "      <td>04/02/2017</td>\n",
              "    </tr>\n",
              "    <tr>\n",
              "      <th>Salma</th>\n",
              "      <td>2500.876</td>\n",
              "      <td>340.600</td>\n",
              "      <td>marie</td>\n",
              "      <td>03/02/2010</td>\n",
              "    </tr>\n",
              "    <tr>\n",
              "      <th>Ahmed</th>\n",
              "      <td>3100.760</td>\n",
              "      <td>NaN</td>\n",
              "      <td>marie</td>\n",
              "      <td>09/09/2004</td>\n",
              "    </tr>\n",
              "    <tr>\n",
              "      <th>Saleh</th>\n",
              "      <td>1300.876</td>\n",
              "      <td>150.900</td>\n",
              "      <td>celibataire</td>\n",
              "      <td>01/01/2017</td>\n",
              "    </tr>\n",
              "    <tr>\n",
              "      <th>Ameni</th>\n",
              "      <td>1100.660</td>\n",
              "      <td>130.870</td>\n",
              "      <td>celibataire</td>\n",
              "      <td>11/05/2019</td>\n",
              "    </tr>\n",
              "    <tr>\n",
              "      <th>Mehdi</th>\n",
              "      <td>3000.760</td>\n",
              "      <td>NaN</td>\n",
              "      <td>marie</td>\n",
              "      <td>07/07/2000</td>\n",
              "    </tr>\n",
              "    <tr>\n",
              "      <th>Salem</th>\n",
              "      <td>1505.760</td>\n",
              "      <td>159.700</td>\n",
              "      <td>celibataire</td>\n",
              "      <td>21/11/2017</td>\n",
              "    </tr>\n",
              "    <tr>\n",
              "      <th>Sameh</th>\n",
              "      <td>2700.330</td>\n",
              "      <td>400.000</td>\n",
              "      <td>marie</td>\n",
              "      <td>19/02/1999</td>\n",
              "    </tr>\n",
              "    <tr>\n",
              "      <th>Wajdi</th>\n",
              "      <td>1200.980</td>\n",
              "      <td>NaN</td>\n",
              "      <td>celibataire</td>\n",
              "      <td>27/11/2015</td>\n",
              "    </tr>\n",
              "    <tr>\n",
              "      <th>Moufida</th>\n",
              "      <td>3700.440</td>\n",
              "      <td>500.000</td>\n",
              "      <td>marie</td>\n",
              "      <td>09/12/1991</td>\n",
              "    </tr>\n",
              "  </tbody>\n",
              "</table>\n",
              "</div>"
            ],
            "text/plain": [
              "          salaire    prime   etat civil date recrutement\n",
              "nom                                                     \n",
              "Ali      1200.675  100.560  celibataire       20/10/2018\n",
              "Sonia    2800.786  400.876        marie       30/11/2005\n",
              "Rahma         NaN  130.987  celibataire       04/02/2017\n",
              "Salma    2500.876  340.600        marie       03/02/2010\n",
              "Ahmed    3100.760      NaN        marie       09/09/2004\n",
              "Saleh    1300.876  150.900  celibataire       01/01/2017\n",
              "Ameni    1100.660  130.870  celibataire       11/05/2019\n",
              "Mehdi    3000.760      NaN        marie       07/07/2000\n",
              "Salem    1505.760  159.700  celibataire       21/11/2017\n",
              "Sameh    2700.330  400.000        marie       19/02/1999\n",
              "Wajdi    1200.980      NaN  celibataire       27/11/2015\n",
              "Moufida  3700.440  500.000        marie       09/12/1991"
            ]
          },
          "execution_count": 36,
          "metadata": {},
          "output_type": "execute_result"
        }
      ],
      "source": [
        "#\n",
        "df_employes=pd.read_csv(data_path, index_col=0, header=0)\n",
        "df_employes"
      ]
    },
    {
      "cell_type": "markdown",
      "metadata": {
        "id": "6vbteAwUGNN2"
      },
      "source": [
        "Transformer les données de format brute en format numérique"
      ]
    },
    {
      "cell_type": "code",
      "execution_count": 37,
      "metadata": {},
      "outputs": [
        {
          "data": {
            "text/html": [
              "<div>\n",
              "<style scoped>\n",
              "    .dataframe tbody tr th:only-of-type {\n",
              "        vertical-align: middle;\n",
              "    }\n",
              "\n",
              "    .dataframe tbody tr th {\n",
              "        vertical-align: top;\n",
              "    }\n",
              "\n",
              "    .dataframe thead th {\n",
              "        text-align: right;\n",
              "    }\n",
              "</style>\n",
              "<table border=\"1\" class=\"dataframe\">\n",
              "  <thead>\n",
              "    <tr style=\"text-align: right;\">\n",
              "      <th></th>\n",
              "      <th>salaire</th>\n",
              "      <th>prime</th>\n",
              "      <th>etat civil</th>\n",
              "      <th>date recrutement</th>\n",
              "    </tr>\n",
              "    <tr>\n",
              "      <th>nom</th>\n",
              "      <th></th>\n",
              "      <th></th>\n",
              "      <th></th>\n",
              "      <th></th>\n",
              "    </tr>\n",
              "  </thead>\n",
              "  <tbody>\n",
              "    <tr>\n",
              "      <th>Ali</th>\n",
              "      <td>1200.675</td>\n",
              "      <td>100.560</td>\n",
              "      <td>celibataire</td>\n",
              "      <td>20/10/2018</td>\n",
              "    </tr>\n",
              "    <tr>\n",
              "      <th>Sonia</th>\n",
              "      <td>2800.786</td>\n",
              "      <td>400.876</td>\n",
              "      <td>marie</td>\n",
              "      <td>30/11/2005</td>\n",
              "    </tr>\n",
              "    <tr>\n",
              "      <th>Rahma</th>\n",
              "      <td>NaN</td>\n",
              "      <td>130.987</td>\n",
              "      <td>celibataire</td>\n",
              "      <td>04/02/2017</td>\n",
              "    </tr>\n",
              "    <tr>\n",
              "      <th>Salma</th>\n",
              "      <td>2500.876</td>\n",
              "      <td>340.600</td>\n",
              "      <td>marie</td>\n",
              "      <td>03/02/2010</td>\n",
              "    </tr>\n",
              "    <tr>\n",
              "      <th>Ahmed</th>\n",
              "      <td>3100.760</td>\n",
              "      <td>NaN</td>\n",
              "      <td>marie</td>\n",
              "      <td>09/09/2004</td>\n",
              "    </tr>\n",
              "    <tr>\n",
              "      <th>Saleh</th>\n",
              "      <td>1300.876</td>\n",
              "      <td>150.900</td>\n",
              "      <td>celibataire</td>\n",
              "      <td>01/01/2017</td>\n",
              "    </tr>\n",
              "    <tr>\n",
              "      <th>Ameni</th>\n",
              "      <td>1100.660</td>\n",
              "      <td>130.870</td>\n",
              "      <td>celibataire</td>\n",
              "      <td>11/05/2019</td>\n",
              "    </tr>\n",
              "    <tr>\n",
              "      <th>Mehdi</th>\n",
              "      <td>3000.760</td>\n",
              "      <td>NaN</td>\n",
              "      <td>marie</td>\n",
              "      <td>07/07/2000</td>\n",
              "    </tr>\n",
              "    <tr>\n",
              "      <th>Salem</th>\n",
              "      <td>1505.760</td>\n",
              "      <td>159.700</td>\n",
              "      <td>celibataire</td>\n",
              "      <td>21/11/2017</td>\n",
              "    </tr>\n",
              "    <tr>\n",
              "      <th>Sameh</th>\n",
              "      <td>2700.330</td>\n",
              "      <td>400.000</td>\n",
              "      <td>marie</td>\n",
              "      <td>19/02/1999</td>\n",
              "    </tr>\n",
              "    <tr>\n",
              "      <th>Wajdi</th>\n",
              "      <td>1200.980</td>\n",
              "      <td>NaN</td>\n",
              "      <td>celibataire</td>\n",
              "      <td>27/11/2015</td>\n",
              "    </tr>\n",
              "    <tr>\n",
              "      <th>Moufida</th>\n",
              "      <td>3700.440</td>\n",
              "      <td>500.000</td>\n",
              "      <td>marie</td>\n",
              "      <td>09/12/1991</td>\n",
              "    </tr>\n",
              "  </tbody>\n",
              "</table>\n",
              "</div>"
            ],
            "text/plain": [
              "          salaire    prime   etat civil date recrutement\n",
              "nom                                                     \n",
              "Ali      1200.675  100.560  celibataire       20/10/2018\n",
              "Sonia    2800.786  400.876        marie       30/11/2005\n",
              "Rahma         NaN  130.987  celibataire       04/02/2017\n",
              "Salma    2500.876  340.600        marie       03/02/2010\n",
              "Ahmed    3100.760      NaN        marie       09/09/2004\n",
              "Saleh    1300.876  150.900  celibataire       01/01/2017\n",
              "Ameni    1100.660  130.870  celibataire       11/05/2019\n",
              "Mehdi    3000.760      NaN        marie       07/07/2000\n",
              "Salem    1505.760  159.700  celibataire       21/11/2017\n",
              "Sameh    2700.330  400.000        marie       19/02/1999\n",
              "Wajdi    1200.980      NaN  celibataire       27/11/2015\n",
              "Moufida  3700.440  500.000        marie       09/12/1991"
            ]
          },
          "execution_count": 37,
          "metadata": {},
          "output_type": "execute_result"
        }
      ],
      "source": [
        "df_ = df_employes.copy()\n",
        "df_"
      ]
    },
    {
      "cell_type": "code",
      "execution_count": 38,
      "metadata": {
        "colab": {
          "base_uri": "https://localhost:8080/",
          "height": 457
        },
        "id": "mFnWju-E-1rt",
        "outputId": "6056ed07-8208-40a5-9005-951285baee61"
      },
      "outputs": [
        {
          "data": {
            "text/html": [
              "<div>\n",
              "<style scoped>\n",
              "    .dataframe tbody tr th:only-of-type {\n",
              "        vertical-align: middle;\n",
              "    }\n",
              "\n",
              "    .dataframe tbody tr th {\n",
              "        vertical-align: top;\n",
              "    }\n",
              "\n",
              "    .dataframe thead th {\n",
              "        text-align: right;\n",
              "    }\n",
              "</style>\n",
              "<table border=\"1\" class=\"dataframe\">\n",
              "  <thead>\n",
              "    <tr style=\"text-align: right;\">\n",
              "      <th></th>\n",
              "      <th>salaire</th>\n",
              "      <th>prime</th>\n",
              "      <th>etat civil</th>\n",
              "      <th>date recrutement</th>\n",
              "    </tr>\n",
              "    <tr>\n",
              "      <th>nom</th>\n",
              "      <th></th>\n",
              "      <th></th>\n",
              "      <th></th>\n",
              "      <th></th>\n",
              "    </tr>\n",
              "  </thead>\n",
              "  <tbody>\n",
              "    <tr>\n",
              "      <th>Ali</th>\n",
              "      <td>1200.675000</td>\n",
              "      <td>100.560000</td>\n",
              "      <td>celibataire</td>\n",
              "      <td>20/10/2018</td>\n",
              "    </tr>\n",
              "    <tr>\n",
              "      <th>Sonia</th>\n",
              "      <td>2800.786000</td>\n",
              "      <td>400.876000</td>\n",
              "      <td>marie</td>\n",
              "      <td>30/11/2005</td>\n",
              "    </tr>\n",
              "    <tr>\n",
              "      <th>Rahma</th>\n",
              "      <td>2192.082091</td>\n",
              "      <td>130.987000</td>\n",
              "      <td>celibataire</td>\n",
              "      <td>04/02/2017</td>\n",
              "    </tr>\n",
              "    <tr>\n",
              "      <th>Salma</th>\n",
              "      <td>2500.876000</td>\n",
              "      <td>340.600000</td>\n",
              "      <td>marie</td>\n",
              "      <td>03/02/2010</td>\n",
              "    </tr>\n",
              "    <tr>\n",
              "      <th>Ahmed</th>\n",
              "      <td>3100.760000</td>\n",
              "      <td>257.165889</td>\n",
              "      <td>marie</td>\n",
              "      <td>09/09/2004</td>\n",
              "    </tr>\n",
              "    <tr>\n",
              "      <th>Saleh</th>\n",
              "      <td>1300.876000</td>\n",
              "      <td>150.900000</td>\n",
              "      <td>celibataire</td>\n",
              "      <td>01/01/2017</td>\n",
              "    </tr>\n",
              "    <tr>\n",
              "      <th>Ameni</th>\n",
              "      <td>1100.660000</td>\n",
              "      <td>130.870000</td>\n",
              "      <td>celibataire</td>\n",
              "      <td>11/05/2019</td>\n",
              "    </tr>\n",
              "    <tr>\n",
              "      <th>Mehdi</th>\n",
              "      <td>3000.760000</td>\n",
              "      <td>257.165889</td>\n",
              "      <td>marie</td>\n",
              "      <td>07/07/2000</td>\n",
              "    </tr>\n",
              "    <tr>\n",
              "      <th>Salem</th>\n",
              "      <td>1505.760000</td>\n",
              "      <td>159.700000</td>\n",
              "      <td>celibataire</td>\n",
              "      <td>21/11/2017</td>\n",
              "    </tr>\n",
              "    <tr>\n",
              "      <th>Sameh</th>\n",
              "      <td>2700.330000</td>\n",
              "      <td>400.000000</td>\n",
              "      <td>marie</td>\n",
              "      <td>19/02/1999</td>\n",
              "    </tr>\n",
              "    <tr>\n",
              "      <th>Wajdi</th>\n",
              "      <td>1200.980000</td>\n",
              "      <td>257.165889</td>\n",
              "      <td>celibataire</td>\n",
              "      <td>27/11/2015</td>\n",
              "    </tr>\n",
              "    <tr>\n",
              "      <th>Moufida</th>\n",
              "      <td>3700.440000</td>\n",
              "      <td>500.000000</td>\n",
              "      <td>marie</td>\n",
              "      <td>09/12/1991</td>\n",
              "    </tr>\n",
              "  </tbody>\n",
              "</table>\n",
              "</div>"
            ],
            "text/plain": [
              "             salaire       prime   etat civil date recrutement\n",
              "nom                                                           \n",
              "Ali      1200.675000  100.560000  celibataire       20/10/2018\n",
              "Sonia    2800.786000  400.876000        marie       30/11/2005\n",
              "Rahma    2192.082091  130.987000  celibataire       04/02/2017\n",
              "Salma    2500.876000  340.600000        marie       03/02/2010\n",
              "Ahmed    3100.760000  257.165889        marie       09/09/2004\n",
              "Saleh    1300.876000  150.900000  celibataire       01/01/2017\n",
              "Ameni    1100.660000  130.870000  celibataire       11/05/2019\n",
              "Mehdi    3000.760000  257.165889        marie       07/07/2000\n",
              "Salem    1505.760000  159.700000  celibataire       21/11/2017\n",
              "Sameh    2700.330000  400.000000        marie       19/02/1999\n",
              "Wajdi    1200.980000  257.165889  celibataire       27/11/2015\n",
              "Moufida  3700.440000  500.000000        marie       09/12/1991"
            ]
          },
          "execution_count": 38,
          "metadata": {},
          "output_type": "execute_result"
        }
      ],
      "source": [
        "# fill missing values\n",
        "df_.fillna({'salaire':df_['salaire'].mean(),'prime':df_['prime'].mean()}, inplace=True)\n",
        "df_\n"
      ]
    },
    {
      "cell_type": "code",
      "execution_count": 39,
      "metadata": {},
      "outputs": [
        {
          "name": "stderr",
          "output_type": "stream",
          "text": [
            "/tmp/ipykernel_77336/2022768527.py:1: UserWarning: Parsing dates in DD/MM/YYYY format when dayfirst=False (the default) was specified. This may lead to inconsistently parsed dates! Specify a format to ensure consistent parsing.\n",
            "  df_['date recrutement']=pd.to_datetime(df_['date recrutement'])\n"
          ]
        },
        {
          "data": {
            "text/html": [
              "<div>\n",
              "<style scoped>\n",
              "    .dataframe tbody tr th:only-of-type {\n",
              "        vertical-align: middle;\n",
              "    }\n",
              "\n",
              "    .dataframe tbody tr th {\n",
              "        vertical-align: top;\n",
              "    }\n",
              "\n",
              "    .dataframe thead th {\n",
              "        text-align: right;\n",
              "    }\n",
              "</style>\n",
              "<table border=\"1\" class=\"dataframe\">\n",
              "  <thead>\n",
              "    <tr style=\"text-align: right;\">\n",
              "      <th></th>\n",
              "      <th>salaire</th>\n",
              "      <th>prime</th>\n",
              "      <th>etat civil</th>\n",
              "      <th>date recrutement</th>\n",
              "    </tr>\n",
              "    <tr>\n",
              "      <th>nom</th>\n",
              "      <th></th>\n",
              "      <th></th>\n",
              "      <th></th>\n",
              "      <th></th>\n",
              "    </tr>\n",
              "  </thead>\n",
              "  <tbody>\n",
              "    <tr>\n",
              "      <th>Ali</th>\n",
              "      <td>1200.675000</td>\n",
              "      <td>100.560000</td>\n",
              "      <td>celibataire</td>\n",
              "      <td>2018-10-20</td>\n",
              "    </tr>\n",
              "    <tr>\n",
              "      <th>Sonia</th>\n",
              "      <td>2800.786000</td>\n",
              "      <td>400.876000</td>\n",
              "      <td>marie</td>\n",
              "      <td>2005-11-30</td>\n",
              "    </tr>\n",
              "    <tr>\n",
              "      <th>Rahma</th>\n",
              "      <td>2192.082091</td>\n",
              "      <td>130.987000</td>\n",
              "      <td>celibataire</td>\n",
              "      <td>2017-04-02</td>\n",
              "    </tr>\n",
              "    <tr>\n",
              "      <th>Salma</th>\n",
              "      <td>2500.876000</td>\n",
              "      <td>340.600000</td>\n",
              "      <td>marie</td>\n",
              "      <td>2010-03-02</td>\n",
              "    </tr>\n",
              "    <tr>\n",
              "      <th>Ahmed</th>\n",
              "      <td>3100.760000</td>\n",
              "      <td>257.165889</td>\n",
              "      <td>marie</td>\n",
              "      <td>2004-09-09</td>\n",
              "    </tr>\n",
              "    <tr>\n",
              "      <th>Saleh</th>\n",
              "      <td>1300.876000</td>\n",
              "      <td>150.900000</td>\n",
              "      <td>celibataire</td>\n",
              "      <td>2017-01-01</td>\n",
              "    </tr>\n",
              "    <tr>\n",
              "      <th>Ameni</th>\n",
              "      <td>1100.660000</td>\n",
              "      <td>130.870000</td>\n",
              "      <td>celibataire</td>\n",
              "      <td>2019-11-05</td>\n",
              "    </tr>\n",
              "    <tr>\n",
              "      <th>Mehdi</th>\n",
              "      <td>3000.760000</td>\n",
              "      <td>257.165889</td>\n",
              "      <td>marie</td>\n",
              "      <td>2000-07-07</td>\n",
              "    </tr>\n",
              "    <tr>\n",
              "      <th>Salem</th>\n",
              "      <td>1505.760000</td>\n",
              "      <td>159.700000</td>\n",
              "      <td>celibataire</td>\n",
              "      <td>2017-11-21</td>\n",
              "    </tr>\n",
              "    <tr>\n",
              "      <th>Sameh</th>\n",
              "      <td>2700.330000</td>\n",
              "      <td>400.000000</td>\n",
              "      <td>marie</td>\n",
              "      <td>1999-02-19</td>\n",
              "    </tr>\n",
              "    <tr>\n",
              "      <th>Wajdi</th>\n",
              "      <td>1200.980000</td>\n",
              "      <td>257.165889</td>\n",
              "      <td>celibataire</td>\n",
              "      <td>2015-11-27</td>\n",
              "    </tr>\n",
              "    <tr>\n",
              "      <th>Moufida</th>\n",
              "      <td>3700.440000</td>\n",
              "      <td>500.000000</td>\n",
              "      <td>marie</td>\n",
              "      <td>1991-09-12</td>\n",
              "    </tr>\n",
              "  </tbody>\n",
              "</table>\n",
              "</div>"
            ],
            "text/plain": [
              "             salaire       prime   etat civil date recrutement\n",
              "nom                                                           \n",
              "Ali      1200.675000  100.560000  celibataire       2018-10-20\n",
              "Sonia    2800.786000  400.876000        marie       2005-11-30\n",
              "Rahma    2192.082091  130.987000  celibataire       2017-04-02\n",
              "Salma    2500.876000  340.600000        marie       2010-03-02\n",
              "Ahmed    3100.760000  257.165889        marie       2004-09-09\n",
              "Saleh    1300.876000  150.900000  celibataire       2017-01-01\n",
              "Ameni    1100.660000  130.870000  celibataire       2019-11-05\n",
              "Mehdi    3000.760000  257.165889        marie       2000-07-07\n",
              "Salem    1505.760000  159.700000  celibataire       2017-11-21\n",
              "Sameh    2700.330000  400.000000        marie       1999-02-19\n",
              "Wajdi    1200.980000  257.165889  celibataire       2015-11-27\n",
              "Moufida  3700.440000  500.000000        marie       1991-09-12"
            ]
          },
          "execution_count": 39,
          "metadata": {},
          "output_type": "execute_result"
        }
      ],
      "source": [
        "df_['date recrutement']=pd.to_datetime(df_['date recrutement'])\n",
        "df_"
      ]
    },
    {
      "cell_type": "code",
      "execution_count": 40,
      "metadata": {},
      "outputs": [
        {
          "data": {
            "text/html": [
              "<div>\n",
              "<style scoped>\n",
              "    .dataframe tbody tr th:only-of-type {\n",
              "        vertical-align: middle;\n",
              "    }\n",
              "\n",
              "    .dataframe tbody tr th {\n",
              "        vertical-align: top;\n",
              "    }\n",
              "\n",
              "    .dataframe thead th {\n",
              "        text-align: right;\n",
              "    }\n",
              "</style>\n",
              "<table border=\"1\" class=\"dataframe\">\n",
              "  <thead>\n",
              "    <tr style=\"text-align: right;\">\n",
              "      <th></th>\n",
              "      <th>salaire</th>\n",
              "      <th>prime</th>\n",
              "      <th>etat civil</th>\n",
              "      <th>date recrutement</th>\n",
              "      <th>anciennete</th>\n",
              "    </tr>\n",
              "    <tr>\n",
              "      <th>nom</th>\n",
              "      <th></th>\n",
              "      <th></th>\n",
              "      <th></th>\n",
              "      <th></th>\n",
              "      <th></th>\n",
              "    </tr>\n",
              "  </thead>\n",
              "  <tbody>\n",
              "    <tr>\n",
              "      <th>Ali</th>\n",
              "      <td>1200.675000</td>\n",
              "      <td>100.560000</td>\n",
              "      <td>celibataire</td>\n",
              "      <td>2018-10-20</td>\n",
              "      <td>4</td>\n",
              "    </tr>\n",
              "    <tr>\n",
              "      <th>Sonia</th>\n",
              "      <td>2800.786000</td>\n",
              "      <td>400.876000</td>\n",
              "      <td>marie</td>\n",
              "      <td>2005-11-30</td>\n",
              "      <td>17</td>\n",
              "    </tr>\n",
              "    <tr>\n",
              "      <th>Rahma</th>\n",
              "      <td>2192.082091</td>\n",
              "      <td>130.987000</td>\n",
              "      <td>celibataire</td>\n",
              "      <td>2017-04-02</td>\n",
              "      <td>5</td>\n",
              "    </tr>\n",
              "    <tr>\n",
              "      <th>Salma</th>\n",
              "      <td>2500.876000</td>\n",
              "      <td>340.600000</td>\n",
              "      <td>marie</td>\n",
              "      <td>2010-03-02</td>\n",
              "      <td>12</td>\n",
              "    </tr>\n",
              "    <tr>\n",
              "      <th>Ahmed</th>\n",
              "      <td>3100.760000</td>\n",
              "      <td>257.165889</td>\n",
              "      <td>marie</td>\n",
              "      <td>2004-09-09</td>\n",
              "      <td>18</td>\n",
              "    </tr>\n",
              "    <tr>\n",
              "      <th>Saleh</th>\n",
              "      <td>1300.876000</td>\n",
              "      <td>150.900000</td>\n",
              "      <td>celibataire</td>\n",
              "      <td>2017-01-01</td>\n",
              "      <td>5</td>\n",
              "    </tr>\n",
              "    <tr>\n",
              "      <th>Ameni</th>\n",
              "      <td>1100.660000</td>\n",
              "      <td>130.870000</td>\n",
              "      <td>celibataire</td>\n",
              "      <td>2019-11-05</td>\n",
              "      <td>3</td>\n",
              "    </tr>\n",
              "    <tr>\n",
              "      <th>Mehdi</th>\n",
              "      <td>3000.760000</td>\n",
              "      <td>257.165889</td>\n",
              "      <td>marie</td>\n",
              "      <td>2000-07-07</td>\n",
              "      <td>22</td>\n",
              "    </tr>\n",
              "    <tr>\n",
              "      <th>Salem</th>\n",
              "      <td>1505.760000</td>\n",
              "      <td>159.700000</td>\n",
              "      <td>celibataire</td>\n",
              "      <td>2017-11-21</td>\n",
              "      <td>5</td>\n",
              "    </tr>\n",
              "    <tr>\n",
              "      <th>Sameh</th>\n",
              "      <td>2700.330000</td>\n",
              "      <td>400.000000</td>\n",
              "      <td>marie</td>\n",
              "      <td>1999-02-19</td>\n",
              "      <td>23</td>\n",
              "    </tr>\n",
              "    <tr>\n",
              "      <th>Wajdi</th>\n",
              "      <td>1200.980000</td>\n",
              "      <td>257.165889</td>\n",
              "      <td>celibataire</td>\n",
              "      <td>2015-11-27</td>\n",
              "      <td>7</td>\n",
              "    </tr>\n",
              "    <tr>\n",
              "      <th>Moufida</th>\n",
              "      <td>3700.440000</td>\n",
              "      <td>500.000000</td>\n",
              "      <td>marie</td>\n",
              "      <td>1991-09-12</td>\n",
              "      <td>31</td>\n",
              "    </tr>\n",
              "  </tbody>\n",
              "</table>\n",
              "</div>"
            ],
            "text/plain": [
              "             salaire       prime   etat civil date recrutement  anciennete\n",
              "nom                                                                       \n",
              "Ali      1200.675000  100.560000  celibataire       2018-10-20           4\n",
              "Sonia    2800.786000  400.876000        marie       2005-11-30          17\n",
              "Rahma    2192.082091  130.987000  celibataire       2017-04-02           5\n",
              "Salma    2500.876000  340.600000        marie       2010-03-02          12\n",
              "Ahmed    3100.760000  257.165889        marie       2004-09-09          18\n",
              "Saleh    1300.876000  150.900000  celibataire       2017-01-01           5\n",
              "Ameni    1100.660000  130.870000  celibataire       2019-11-05           3\n",
              "Mehdi    3000.760000  257.165889        marie       2000-07-07          22\n",
              "Salem    1505.760000  159.700000  celibataire       2017-11-21           5\n",
              "Sameh    2700.330000  400.000000        marie       1999-02-19          23\n",
              "Wajdi    1200.980000  257.165889  celibataire       2015-11-27           7\n",
              "Moufida  3700.440000  500.000000        marie       1991-09-12          31"
            ]
          },
          "execution_count": 40,
          "metadata": {},
          "output_type": "execute_result"
        }
      ],
      "source": [
        "from datetime import datetime\n",
        "df_['anciennete']=df_['date recrutement'].apply(lambda x: datetime.now().year-x.year)\n",
        "df_"
      ]
    },
    {
      "cell_type": "code",
      "execution_count": 41,
      "metadata": {},
      "outputs": [
        {
          "data": {
            "text/html": [
              "<div>\n",
              "<style scoped>\n",
              "    .dataframe tbody tr th:only-of-type {\n",
              "        vertical-align: middle;\n",
              "    }\n",
              "\n",
              "    .dataframe tbody tr th {\n",
              "        vertical-align: top;\n",
              "    }\n",
              "\n",
              "    .dataframe thead th {\n",
              "        text-align: right;\n",
              "    }\n",
              "</style>\n",
              "<table border=\"1\" class=\"dataframe\">\n",
              "  <thead>\n",
              "    <tr style=\"text-align: right;\">\n",
              "      <th></th>\n",
              "      <th>salaire</th>\n",
              "      <th>prime</th>\n",
              "      <th>etat civil</th>\n",
              "      <th>anciennete</th>\n",
              "    </tr>\n",
              "    <tr>\n",
              "      <th>nom</th>\n",
              "      <th></th>\n",
              "      <th></th>\n",
              "      <th></th>\n",
              "      <th></th>\n",
              "    </tr>\n",
              "  </thead>\n",
              "  <tbody>\n",
              "    <tr>\n",
              "      <th>Ali</th>\n",
              "      <td>1200.675000</td>\n",
              "      <td>100.560000</td>\n",
              "      <td>celibataire</td>\n",
              "      <td>4</td>\n",
              "    </tr>\n",
              "    <tr>\n",
              "      <th>Sonia</th>\n",
              "      <td>2800.786000</td>\n",
              "      <td>400.876000</td>\n",
              "      <td>marie</td>\n",
              "      <td>17</td>\n",
              "    </tr>\n",
              "    <tr>\n",
              "      <th>Rahma</th>\n",
              "      <td>2192.082091</td>\n",
              "      <td>130.987000</td>\n",
              "      <td>celibataire</td>\n",
              "      <td>5</td>\n",
              "    </tr>\n",
              "    <tr>\n",
              "      <th>Salma</th>\n",
              "      <td>2500.876000</td>\n",
              "      <td>340.600000</td>\n",
              "      <td>marie</td>\n",
              "      <td>12</td>\n",
              "    </tr>\n",
              "    <tr>\n",
              "      <th>Ahmed</th>\n",
              "      <td>3100.760000</td>\n",
              "      <td>257.165889</td>\n",
              "      <td>marie</td>\n",
              "      <td>18</td>\n",
              "    </tr>\n",
              "    <tr>\n",
              "      <th>Saleh</th>\n",
              "      <td>1300.876000</td>\n",
              "      <td>150.900000</td>\n",
              "      <td>celibataire</td>\n",
              "      <td>5</td>\n",
              "    </tr>\n",
              "    <tr>\n",
              "      <th>Ameni</th>\n",
              "      <td>1100.660000</td>\n",
              "      <td>130.870000</td>\n",
              "      <td>celibataire</td>\n",
              "      <td>3</td>\n",
              "    </tr>\n",
              "    <tr>\n",
              "      <th>Mehdi</th>\n",
              "      <td>3000.760000</td>\n",
              "      <td>257.165889</td>\n",
              "      <td>marie</td>\n",
              "      <td>22</td>\n",
              "    </tr>\n",
              "    <tr>\n",
              "      <th>Salem</th>\n",
              "      <td>1505.760000</td>\n",
              "      <td>159.700000</td>\n",
              "      <td>celibataire</td>\n",
              "      <td>5</td>\n",
              "    </tr>\n",
              "    <tr>\n",
              "      <th>Sameh</th>\n",
              "      <td>2700.330000</td>\n",
              "      <td>400.000000</td>\n",
              "      <td>marie</td>\n",
              "      <td>23</td>\n",
              "    </tr>\n",
              "    <tr>\n",
              "      <th>Wajdi</th>\n",
              "      <td>1200.980000</td>\n",
              "      <td>257.165889</td>\n",
              "      <td>celibataire</td>\n",
              "      <td>7</td>\n",
              "    </tr>\n",
              "    <tr>\n",
              "      <th>Moufida</th>\n",
              "      <td>3700.440000</td>\n",
              "      <td>500.000000</td>\n",
              "      <td>marie</td>\n",
              "      <td>31</td>\n",
              "    </tr>\n",
              "  </tbody>\n",
              "</table>\n",
              "</div>"
            ],
            "text/plain": [
              "             salaire       prime   etat civil  anciennete\n",
              "nom                                                      \n",
              "Ali      1200.675000  100.560000  celibataire           4\n",
              "Sonia    2800.786000  400.876000        marie          17\n",
              "Rahma    2192.082091  130.987000  celibataire           5\n",
              "Salma    2500.876000  340.600000        marie          12\n",
              "Ahmed    3100.760000  257.165889        marie          18\n",
              "Saleh    1300.876000  150.900000  celibataire           5\n",
              "Ameni    1100.660000  130.870000  celibataire           3\n",
              "Mehdi    3000.760000  257.165889        marie          22\n",
              "Salem    1505.760000  159.700000  celibataire           5\n",
              "Sameh    2700.330000  400.000000        marie          23\n",
              "Wajdi    1200.980000  257.165889  celibataire           7\n",
              "Moufida  3700.440000  500.000000        marie          31"
            ]
          },
          "execution_count": 41,
          "metadata": {},
          "output_type": "execute_result"
        }
      ],
      "source": [
        "df_.drop(['date recrutement'], axis=1, inplace=True,errors='ignore')\n",
        "df_"
      ]
    },
    {
      "cell_type": "code",
      "execution_count": 42,
      "metadata": {},
      "outputs": [
        {
          "data": {
            "text/html": [
              "<style>#sk-container-id-4 {color: black;background-color: white;}#sk-container-id-4 pre{padding: 0;}#sk-container-id-4 div.sk-toggleable {background-color: white;}#sk-container-id-4 label.sk-toggleable__label {cursor: pointer;display: block;width: 100%;margin-bottom: 0;padding: 0.3em;box-sizing: border-box;text-align: center;}#sk-container-id-4 label.sk-toggleable__label-arrow:before {content: \"▸\";float: left;margin-right: 0.25em;color: #696969;}#sk-container-id-4 label.sk-toggleable__label-arrow:hover:before {color: black;}#sk-container-id-4 div.sk-estimator:hover label.sk-toggleable__label-arrow:before {color: black;}#sk-container-id-4 div.sk-toggleable__content {max-height: 0;max-width: 0;overflow: hidden;text-align: left;background-color: #f0f8ff;}#sk-container-id-4 div.sk-toggleable__content pre {margin: 0.2em;color: black;border-radius: 0.25em;background-color: #f0f8ff;}#sk-container-id-4 input.sk-toggleable__control:checked~div.sk-toggleable__content {max-height: 200px;max-width: 100%;overflow: auto;}#sk-container-id-4 input.sk-toggleable__control:checked~label.sk-toggleable__label-arrow:before {content: \"▾\";}#sk-container-id-4 div.sk-estimator input.sk-toggleable__control:checked~label.sk-toggleable__label {background-color: #d4ebff;}#sk-container-id-4 div.sk-label input.sk-toggleable__control:checked~label.sk-toggleable__label {background-color: #d4ebff;}#sk-container-id-4 input.sk-hidden--visually {border: 0;clip: rect(1px 1px 1px 1px);clip: rect(1px, 1px, 1px, 1px);height: 1px;margin: -1px;overflow: hidden;padding: 0;position: absolute;width: 1px;}#sk-container-id-4 div.sk-estimator {font-family: monospace;background-color: #f0f8ff;border: 1px dotted black;border-radius: 0.25em;box-sizing: border-box;margin-bottom: 0.5em;}#sk-container-id-4 div.sk-estimator:hover {background-color: #d4ebff;}#sk-container-id-4 div.sk-parallel-item::after {content: \"\";width: 100%;border-bottom: 1px solid gray;flex-grow: 1;}#sk-container-id-4 div.sk-label:hover label.sk-toggleable__label {background-color: #d4ebff;}#sk-container-id-4 div.sk-serial::before {content: \"\";position: absolute;border-left: 1px solid gray;box-sizing: border-box;top: 0;bottom: 0;left: 50%;z-index: 0;}#sk-container-id-4 div.sk-serial {display: flex;flex-direction: column;align-items: center;background-color: white;padding-right: 0.2em;padding-left: 0.2em;position: relative;}#sk-container-id-4 div.sk-item {position: relative;z-index: 1;}#sk-container-id-4 div.sk-parallel {display: flex;align-items: stretch;justify-content: center;background-color: white;position: relative;}#sk-container-id-4 div.sk-item::before, #sk-container-id-4 div.sk-parallel-item::before {content: \"\";position: absolute;border-left: 1px solid gray;box-sizing: border-box;top: 0;bottom: 0;left: 50%;z-index: -1;}#sk-container-id-4 div.sk-parallel-item {display: flex;flex-direction: column;z-index: 1;position: relative;background-color: white;}#sk-container-id-4 div.sk-parallel-item:first-child::after {align-self: flex-end;width: 50%;}#sk-container-id-4 div.sk-parallel-item:last-child::after {align-self: flex-start;width: 50%;}#sk-container-id-4 div.sk-parallel-item:only-child::after {width: 0;}#sk-container-id-4 div.sk-dashed-wrapped {border: 1px dashed gray;margin: 0 0.4em 0.5em 0.4em;box-sizing: border-box;padding-bottom: 0.4em;background-color: white;}#sk-container-id-4 div.sk-label label {font-family: monospace;font-weight: bold;display: inline-block;line-height: 1.2em;}#sk-container-id-4 div.sk-label-container {text-align: center;}#sk-container-id-4 div.sk-container {/* jupyter's `normalize.less` sets `[hidden] { display: none; }` but bootstrap.min.css set `[hidden] { display: none !important; }` so we also need the `!important` here to be able to override the default hidden behavior on the sphinx rendered scikit-learn.org. See: https://github.com/scikit-learn/scikit-learn/issues/21755 */display: inline-block !important;position: relative;}#sk-container-id-4 div.sk-text-repr-fallback {display: none;}</style><div id=\"sk-container-id-4\" class=\"sk-top-container\"><div class=\"sk-text-repr-fallback\"><pre>OneHotEncoder()</pre><b>In a Jupyter environment, please rerun this cell to show the HTML representation or trust the notebook. <br />On GitHub, the HTML representation is unable to render, please try loading this page with nbviewer.org.</b></div><div class=\"sk-container\" hidden><div class=\"sk-item\"><div class=\"sk-estimator sk-toggleable\"><input class=\"sk-toggleable__control sk-hidden--visually\" id=\"sk-estimator-id-4\" type=\"checkbox\" checked><label for=\"sk-estimator-id-4\" class=\"sk-toggleable__label sk-toggleable__label-arrow\">OneHotEncoder</label><div class=\"sk-toggleable__content\"><pre>OneHotEncoder()</pre></div></div></div></div></div>"
            ],
            "text/plain": [
              "OneHotEncoder()"
            ]
          },
          "execution_count": 42,
          "metadata": {},
          "output_type": "execute_result"
        }
      ],
      "source": [
        "from sklearn.preprocessing import OneHotEncoder\n",
        "ohe= OneHotEncoder()\n",
        "ohe.fit(df_[['etat civil']])"
      ]
    },
    {
      "cell_type": "code",
      "execution_count": 43,
      "metadata": {},
      "outputs": [
        {
          "data": {
            "text/plain": [
              "[array(['celibataire', 'marie'], dtype=object)]"
            ]
          },
          "execution_count": 43,
          "metadata": {},
          "output_type": "execute_result"
        }
      ],
      "source": [
        "ohe.categories_"
      ]
    },
    {
      "cell_type": "code",
      "execution_count": 44,
      "metadata": {},
      "outputs": [
        {
          "data": {
            "text/plain": [
              "array([[1., 0.],\n",
              "       [0., 1.],\n",
              "       [1., 0.],\n",
              "       [0., 1.],\n",
              "       [0., 1.],\n",
              "       [1., 0.],\n",
              "       [1., 0.],\n",
              "       [0., 1.],\n",
              "       [1., 0.],\n",
              "       [0., 1.],\n",
              "       [1., 0.],\n",
              "       [0., 1.]])"
            ]
          },
          "execution_count": 44,
          "metadata": {},
          "output_type": "execute_result"
        }
      ],
      "source": [
        "etat_civil_sparse= ohe.transform(df_[['etat civil']])\n",
        "etat_civil=etat_civil_sparse.toarray()\n",
        "etat_civil"
      ]
    },
    {
      "cell_type": "code",
      "execution_count": 45,
      "metadata": {},
      "outputs": [],
      "source": [
        "df_etat_civil=pd.DataFrame(etat_civil, index=df_.index, columns=['etat civil celib', 'etat civil marie'])"
      ]
    },
    {
      "cell_type": "code",
      "execution_count": 46,
      "metadata": {},
      "outputs": [],
      "source": [
        "df_=pd.concat([df_, df_etat_civil], axis=1)"
      ]
    },
    {
      "cell_type": "code",
      "execution_count": 47,
      "metadata": {},
      "outputs": [],
      "source": [
        "df_.drop(['etat civil'], axis=1, inplace=True,errors='ignore')"
      ]
    },
    {
      "cell_type": "code",
      "execution_count": 48,
      "metadata": {},
      "outputs": [
        {
          "data": {
            "text/html": [
              "<div>\n",
              "<style scoped>\n",
              "    .dataframe tbody tr th:only-of-type {\n",
              "        vertical-align: middle;\n",
              "    }\n",
              "\n",
              "    .dataframe tbody tr th {\n",
              "        vertical-align: top;\n",
              "    }\n",
              "\n",
              "    .dataframe thead th {\n",
              "        text-align: right;\n",
              "    }\n",
              "</style>\n",
              "<table border=\"1\" class=\"dataframe\">\n",
              "  <thead>\n",
              "    <tr style=\"text-align: right;\">\n",
              "      <th></th>\n",
              "      <th>salaire</th>\n",
              "      <th>prime</th>\n",
              "      <th>anciennete</th>\n",
              "      <th>etat civil celib</th>\n",
              "      <th>etat civil marie</th>\n",
              "    </tr>\n",
              "    <tr>\n",
              "      <th>nom</th>\n",
              "      <th></th>\n",
              "      <th></th>\n",
              "      <th></th>\n",
              "      <th></th>\n",
              "      <th></th>\n",
              "    </tr>\n",
              "  </thead>\n",
              "  <tbody>\n",
              "    <tr>\n",
              "      <th>Ali</th>\n",
              "      <td>1200.675000</td>\n",
              "      <td>100.560000</td>\n",
              "      <td>4</td>\n",
              "      <td>1.0</td>\n",
              "      <td>0.0</td>\n",
              "    </tr>\n",
              "    <tr>\n",
              "      <th>Sonia</th>\n",
              "      <td>2800.786000</td>\n",
              "      <td>400.876000</td>\n",
              "      <td>17</td>\n",
              "      <td>0.0</td>\n",
              "      <td>1.0</td>\n",
              "    </tr>\n",
              "    <tr>\n",
              "      <th>Rahma</th>\n",
              "      <td>2192.082091</td>\n",
              "      <td>130.987000</td>\n",
              "      <td>5</td>\n",
              "      <td>1.0</td>\n",
              "      <td>0.0</td>\n",
              "    </tr>\n",
              "    <tr>\n",
              "      <th>Salma</th>\n",
              "      <td>2500.876000</td>\n",
              "      <td>340.600000</td>\n",
              "      <td>12</td>\n",
              "      <td>0.0</td>\n",
              "      <td>1.0</td>\n",
              "    </tr>\n",
              "    <tr>\n",
              "      <th>Ahmed</th>\n",
              "      <td>3100.760000</td>\n",
              "      <td>257.165889</td>\n",
              "      <td>18</td>\n",
              "      <td>0.0</td>\n",
              "      <td>1.0</td>\n",
              "    </tr>\n",
              "    <tr>\n",
              "      <th>Saleh</th>\n",
              "      <td>1300.876000</td>\n",
              "      <td>150.900000</td>\n",
              "      <td>5</td>\n",
              "      <td>1.0</td>\n",
              "      <td>0.0</td>\n",
              "    </tr>\n",
              "    <tr>\n",
              "      <th>Ameni</th>\n",
              "      <td>1100.660000</td>\n",
              "      <td>130.870000</td>\n",
              "      <td>3</td>\n",
              "      <td>1.0</td>\n",
              "      <td>0.0</td>\n",
              "    </tr>\n",
              "    <tr>\n",
              "      <th>Mehdi</th>\n",
              "      <td>3000.760000</td>\n",
              "      <td>257.165889</td>\n",
              "      <td>22</td>\n",
              "      <td>0.0</td>\n",
              "      <td>1.0</td>\n",
              "    </tr>\n",
              "    <tr>\n",
              "      <th>Salem</th>\n",
              "      <td>1505.760000</td>\n",
              "      <td>159.700000</td>\n",
              "      <td>5</td>\n",
              "      <td>1.0</td>\n",
              "      <td>0.0</td>\n",
              "    </tr>\n",
              "    <tr>\n",
              "      <th>Sameh</th>\n",
              "      <td>2700.330000</td>\n",
              "      <td>400.000000</td>\n",
              "      <td>23</td>\n",
              "      <td>0.0</td>\n",
              "      <td>1.0</td>\n",
              "    </tr>\n",
              "    <tr>\n",
              "      <th>Wajdi</th>\n",
              "      <td>1200.980000</td>\n",
              "      <td>257.165889</td>\n",
              "      <td>7</td>\n",
              "      <td>1.0</td>\n",
              "      <td>0.0</td>\n",
              "    </tr>\n",
              "    <tr>\n",
              "      <th>Moufida</th>\n",
              "      <td>3700.440000</td>\n",
              "      <td>500.000000</td>\n",
              "      <td>31</td>\n",
              "      <td>0.0</td>\n",
              "      <td>1.0</td>\n",
              "    </tr>\n",
              "  </tbody>\n",
              "</table>\n",
              "</div>"
            ],
            "text/plain": [
              "             salaire       prime  anciennete  etat civil celib  \\\n",
              "nom                                                              \n",
              "Ali      1200.675000  100.560000           4               1.0   \n",
              "Sonia    2800.786000  400.876000          17               0.0   \n",
              "Rahma    2192.082091  130.987000           5               1.0   \n",
              "Salma    2500.876000  340.600000          12               0.0   \n",
              "Ahmed    3100.760000  257.165889          18               0.0   \n",
              "Saleh    1300.876000  150.900000           5               1.0   \n",
              "Ameni    1100.660000  130.870000           3               1.0   \n",
              "Mehdi    3000.760000  257.165889          22               0.0   \n",
              "Salem    1505.760000  159.700000           5               1.0   \n",
              "Sameh    2700.330000  400.000000          23               0.0   \n",
              "Wajdi    1200.980000  257.165889           7               1.0   \n",
              "Moufida  3700.440000  500.000000          31               0.0   \n",
              "\n",
              "         etat civil marie  \n",
              "nom                        \n",
              "Ali                   0.0  \n",
              "Sonia                 1.0  \n",
              "Rahma                 0.0  \n",
              "Salma                 1.0  \n",
              "Ahmed                 1.0  \n",
              "Saleh                 0.0  \n",
              "Ameni                 0.0  \n",
              "Mehdi                 1.0  \n",
              "Salem                 0.0  \n",
              "Sameh                 1.0  \n",
              "Wajdi                 0.0  \n",
              "Moufida               1.0  "
            ]
          },
          "execution_count": 48,
          "metadata": {},
          "output_type": "execute_result"
        }
      ],
      "source": [
        "df_"
      ]
    },
    {
      "cell_type": "markdown",
      "metadata": {
        "id": "Q4eppm9XGRyO"
      },
      "source": [
        "Normaliser les données"
      ]
    },
    {
      "cell_type": "code",
      "execution_count": 49,
      "metadata": {},
      "outputs": [
        {
          "data": {
            "text/plain": [
              "array([[-1.1511497 , -1.26411237, -0.97166562,  1.        , -1.        ],\n",
              "       [ 0.70678264,  1.1600185 ,  0.48583281, -1.        ,  1.        ],\n",
              "       [ 0.        , -1.01850764, -0.85955036,  1.        , -1.        ],\n",
              "       [ 0.358549  ,  0.67347462, -0.07474351, -1.        ,  1.        ],\n",
              "       [ 1.0550906 ,  0.        ,  0.59794807, -1.        ,  1.        ],\n",
              "       [-1.0348036 , -0.85777122, -0.85955036,  1.        , -1.        ],\n",
              "       [-1.26727984, -1.01945206, -1.08378088,  1.        , -1.        ],\n",
              "       [ 0.93897789,  0.        ,  1.04640913, -1.        ,  1.        ],\n",
              "       [-0.79690722, -0.7867382 , -0.85955036,  1.        , -1.        ],\n",
              "       [ 0.59014045,  1.15294749,  1.15852439, -1.        ,  1.        ],\n",
              "       [-1.15079556,  0.        , -0.63531983,  1.        , -1.        ],\n",
              "       [ 1.75139534,  1.96014087,  2.05544651, -1.        ,  1.        ]])"
            ]
          },
          "execution_count": 49,
          "metadata": {},
          "output_type": "execute_result"
        }
      ],
      "source": [
        "from sklearn.preprocessing import  StandardScaler\n",
        "ss=StandardScaler()\n",
        "ss.fit(df_)\n",
        "df_ss=ss.transform(df_)\n",
        "df_ss"
      ]
    },
    {
      "cell_type": "code",
      "execution_count": 23,
      "metadata": {
        "colab": {
          "base_uri": "https://localhost:8080/"
        },
        "id": "jqx257zQ-1pV",
        "outputId": "fe8ea3b5-064d-462e-f4a7-bfe878ef0637"
      },
      "outputs": [
        {
          "ename": "NameError",
          "evalue": "name 'X_' is not defined",
          "output_type": "error",
          "traceback": [
            "\u001b[0;31m---------------------------------------------------------------------------\u001b[0m",
            "\u001b[0;31mNameError\u001b[0m                                 Traceback (most recent call last)",
            "Cell \u001b[0;32mIn [23], line 3\u001b[0m\n\u001b[1;32m      1\u001b[0m \u001b[39mfrom\u001b[39;00m \u001b[39msklearn\u001b[39;00m\u001b[39m.\u001b[39;00m\u001b[39mpreprocessing\u001b[39;00m \u001b[39mimport\u001b[39;00m  StandardScaler\n\u001b[1;32m      2\u001b[0m ss\u001b[39m=\u001b[39mStandardScaler()\n\u001b[0;32m----> 3\u001b[0m ss\u001b[39m.\u001b[39mfit(X_)\n\u001b[1;32m      4\u001b[0m X_ss\u001b[39m=\u001b[39mss\u001b[39m.\u001b[39mtransform(X_)\n\u001b[1;32m      5\u001b[0m X_ss\n",
            "\u001b[0;31mNameError\u001b[0m: name 'X_' is not defined"
          ]
        }
      ],
      "source": [
        "from sklearn.preprocessing import  StandardScaler\n",
        "ss=StandardScaler()\n",
        "ss.fit(X_)\n",
        "X_ss=ss.transform(X_)\n",
        "X_ss"
      ]
    },
    {
      "cell_type": "markdown",
      "metadata": {
        "id": "uR1b_PtCGTi1"
      },
      "source": [
        "Réduire les dimensions des données"
      ]
    },
    {
      "cell_type": "code",
      "execution_count": 50,
      "metadata": {
        "colab": {
          "base_uri": "https://localhost:8080/"
        },
        "id": "ckfAGmuH_0It",
        "outputId": "9e56ddcc-26a9-4f77-ccea-ec4fa1e668fd"
      },
      "outputs": [
        {
          "data": {
            "text/plain": [
              "array([[-2.40254573, -0.21260843],\n",
              "       [ 1.94104291,  0.13336802],\n",
              "       [-1.73359756, -0.29367583],\n",
              "       [ 1.32591667, -0.29059585],\n",
              "       [ 1.65300564, -0.84805555],\n",
              "       [-2.12706805,  0.10410078],\n",
              "       [-2.40068748, -0.01507993],\n",
              "       [ 1.80315582, -0.71309448],\n",
              "       [-1.99062368,  0.09796294],\n",
              "       [ 2.18893613,  0.31516948],\n",
              "       [-1.71255885,  0.86438558],\n",
              "       [ 3.45502417,  0.85812327]])"
            ]
          },
          "execution_count": 50,
          "metadata": {},
          "output_type": "execute_result"
        }
      ],
      "source": [
        "# reduce dimension\n",
        "# to determine target dimension we calculate inertia\n",
        "\n",
        "\n",
        "from sklearn.decomposition import PCA\n",
        "pca=PCA(n_components=2)\n",
        "pca.fit(df_ss)\n",
        "df_pca=pca.transform(df_ss)\n",
        "df_pca"
      ]
    },
    {
      "cell_type": "markdown",
      "metadata": {
        "id": "M8Uakv5lGYGt"
      },
      "source": [
        "Regrouper les données clusters avec Kmeans"
      ]
    },
    {
      "cell_type": "code",
      "execution_count": 51,
      "metadata": {
        "colab": {
          "base_uri": "https://localhost:8080/"
        },
        "id": "VsEKz6cX__L9",
        "outputId": "76167d9f-35d2-4ae3-8411-7097397cc8b4"
      },
      "outputs": [
        {
          "data": {
            "text/html": [
              "<style>#sk-container-id-5 {color: black;background-color: white;}#sk-container-id-5 pre{padding: 0;}#sk-container-id-5 div.sk-toggleable {background-color: white;}#sk-container-id-5 label.sk-toggleable__label {cursor: pointer;display: block;width: 100%;margin-bottom: 0;padding: 0.3em;box-sizing: border-box;text-align: center;}#sk-container-id-5 label.sk-toggleable__label-arrow:before {content: \"▸\";float: left;margin-right: 0.25em;color: #696969;}#sk-container-id-5 label.sk-toggleable__label-arrow:hover:before {color: black;}#sk-container-id-5 div.sk-estimator:hover label.sk-toggleable__label-arrow:before {color: black;}#sk-container-id-5 div.sk-toggleable__content {max-height: 0;max-width: 0;overflow: hidden;text-align: left;background-color: #f0f8ff;}#sk-container-id-5 div.sk-toggleable__content pre {margin: 0.2em;color: black;border-radius: 0.25em;background-color: #f0f8ff;}#sk-container-id-5 input.sk-toggleable__control:checked~div.sk-toggleable__content {max-height: 200px;max-width: 100%;overflow: auto;}#sk-container-id-5 input.sk-toggleable__control:checked~label.sk-toggleable__label-arrow:before {content: \"▾\";}#sk-container-id-5 div.sk-estimator input.sk-toggleable__control:checked~label.sk-toggleable__label {background-color: #d4ebff;}#sk-container-id-5 div.sk-label input.sk-toggleable__control:checked~label.sk-toggleable__label {background-color: #d4ebff;}#sk-container-id-5 input.sk-hidden--visually {border: 0;clip: rect(1px 1px 1px 1px);clip: rect(1px, 1px, 1px, 1px);height: 1px;margin: -1px;overflow: hidden;padding: 0;position: absolute;width: 1px;}#sk-container-id-5 div.sk-estimator {font-family: monospace;background-color: #f0f8ff;border: 1px dotted black;border-radius: 0.25em;box-sizing: border-box;margin-bottom: 0.5em;}#sk-container-id-5 div.sk-estimator:hover {background-color: #d4ebff;}#sk-container-id-5 div.sk-parallel-item::after {content: \"\";width: 100%;border-bottom: 1px solid gray;flex-grow: 1;}#sk-container-id-5 div.sk-label:hover label.sk-toggleable__label {background-color: #d4ebff;}#sk-container-id-5 div.sk-serial::before {content: \"\";position: absolute;border-left: 1px solid gray;box-sizing: border-box;top: 0;bottom: 0;left: 50%;z-index: 0;}#sk-container-id-5 div.sk-serial {display: flex;flex-direction: column;align-items: center;background-color: white;padding-right: 0.2em;padding-left: 0.2em;position: relative;}#sk-container-id-5 div.sk-item {position: relative;z-index: 1;}#sk-container-id-5 div.sk-parallel {display: flex;align-items: stretch;justify-content: center;background-color: white;position: relative;}#sk-container-id-5 div.sk-item::before, #sk-container-id-5 div.sk-parallel-item::before {content: \"\";position: absolute;border-left: 1px solid gray;box-sizing: border-box;top: 0;bottom: 0;left: 50%;z-index: -1;}#sk-container-id-5 div.sk-parallel-item {display: flex;flex-direction: column;z-index: 1;position: relative;background-color: white;}#sk-container-id-5 div.sk-parallel-item:first-child::after {align-self: flex-end;width: 50%;}#sk-container-id-5 div.sk-parallel-item:last-child::after {align-self: flex-start;width: 50%;}#sk-container-id-5 div.sk-parallel-item:only-child::after {width: 0;}#sk-container-id-5 div.sk-dashed-wrapped {border: 1px dashed gray;margin: 0 0.4em 0.5em 0.4em;box-sizing: border-box;padding-bottom: 0.4em;background-color: white;}#sk-container-id-5 div.sk-label label {font-family: monospace;font-weight: bold;display: inline-block;line-height: 1.2em;}#sk-container-id-5 div.sk-label-container {text-align: center;}#sk-container-id-5 div.sk-container {/* jupyter's `normalize.less` sets `[hidden] { display: none; }` but bootstrap.min.css set `[hidden] { display: none !important; }` so we also need the `!important` here to be able to override the default hidden behavior on the sphinx rendered scikit-learn.org. See: https://github.com/scikit-learn/scikit-learn/issues/21755 */display: inline-block !important;position: relative;}#sk-container-id-5 div.sk-text-repr-fallback {display: none;}</style><div id=\"sk-container-id-5\" class=\"sk-top-container\"><div class=\"sk-text-repr-fallback\"><pre>KMeans(n_clusters=2)</pre><b>In a Jupyter environment, please rerun this cell to show the HTML representation or trust the notebook. <br />On GitHub, the HTML representation is unable to render, please try loading this page with nbviewer.org.</b></div><div class=\"sk-container\" hidden><div class=\"sk-item\"><div class=\"sk-estimator sk-toggleable\"><input class=\"sk-toggleable__control sk-hidden--visually\" id=\"sk-estimator-id-5\" type=\"checkbox\" checked><label for=\"sk-estimator-id-5\" class=\"sk-toggleable__label sk-toggleable__label-arrow\">KMeans</label><div class=\"sk-toggleable__content\"><pre>KMeans(n_clusters=2)</pre></div></div></div></div></div>"
            ],
            "text/plain": [
              "KMeans(n_clusters=2)"
            ]
          },
          "execution_count": 51,
          "metadata": {},
          "output_type": "execute_result"
        }
      ],
      "source": [
        "# regroup data\n",
        "from sklearn.cluster import KMeans\n",
        "kmeans = KMeans(n_clusters=2)\n",
        "kmeans.fit(df_pca)"
      ]
    },
    {
      "cell_type": "markdown",
      "metadata": {
        "id": "Qkgjyo-YGbkm"
      },
      "source": [
        "Prédire les labels des clusters"
      ]
    },
    {
      "cell_type": "code",
      "execution_count": 52,
      "metadata": {
        "colab": {
          "base_uri": "https://localhost:8080/"
        },
        "id": "BAf8jD9yANr0",
        "outputId": "18b88f9b-9d71-45bd-8f54-42a0777b376c"
      },
      "outputs": [
        {
          "data": {
            "text/plain": [
              "array([0, 1, 0, 1, 1, 0, 0, 1, 0, 1, 0, 1], dtype=int32)"
            ]
          },
          "execution_count": 52,
          "metadata": {},
          "output_type": "execute_result"
        }
      ],
      "source": [
        "# predict labels\n",
        "kmeans.predict(df_pca)"
      ]
    },
    {
      "cell_type": "markdown",
      "metadata": {
        "id": "W-Y6U-UKGfpv"
      },
      "source": [
        "Déterminer les clusters"
      ]
    },
    {
      "cell_type": "code",
      "execution_count": 53,
      "metadata": {
        "colab": {
          "base_uri": "https://localhost:8080/"
        },
        "id": "uRh078aKAki-",
        "outputId": "7a9ea6e8-8946-479f-de03-55ff7797cf91"
      },
      "outputs": [
        {
          "data": {
            "text/plain": [
              "array([[-2.06118022,  0.09084752],\n",
              "       [ 2.06118022, -0.09084752]])"
            ]
          },
          "execution_count": 53,
          "metadata": {},
          "output_type": "execute_result"
        }
      ],
      "source": [
        "# determine clusters\n",
        "kmeans.cluster_centers_"
      ]
    },
    {
      "cell_type": "code",
      "execution_count": 54,
      "metadata": {
        "colab": {
          "base_uri": "https://localhost:8080/"
        },
        "id": "euvXDUyVAmRV",
        "outputId": "730031a5-29da-47db-e287-32da0b9c4949"
      },
      "outputs": [],
      "source": [
        "# cluster0\n",
        "cluster0=df_pca[kmeans.labels_==0]"
      ]
    },
    {
      "cell_type": "code",
      "execution_count": 55,
      "metadata": {},
      "outputs": [],
      "source": [
        "# cluster1\n",
        "cluster1=df_pca[kmeans.labels_==1]"
      ]
    },
    {
      "cell_type": "markdown",
      "metadata": {
        "id": "TWph1X0yGkq2"
      },
      "source": [
        "Visualiser les données sur un plan 2D colorées selon leurs appartenances aux clusters"
      ]
    },
    {
      "cell_type": "code",
      "execution_count": 56,
      "metadata": {
        "colab": {
          "base_uri": "https://localhost:8080/",
          "height": 265
        },
        "id": "S99DQqj_AfWO",
        "outputId": "9df9d8a1-fd04-4ff5-9c30-170e5407a23e"
      },
      "outputs": [
        {
          "data": {
            "image/png": "[encoded data removed]",
            "text/plain": [
              "<Figure size 640x480 with 1 Axes>"
            ]
          },
          "metadata": {},
          "output_type": "display_data"
        }
      ],
      "source": [
        "import matplotlib.pyplot as plt\n",
        "\n",
        "plt.plot(cluster0[:,0],cluster0[:,1],'r+', label='Cluster 0')\n",
        "plt.plot(cluster1[:,0],cluster1[:,1],'b+', label='Cluster 1')\n",
        "# show centers\n",
        "plt.plot(kmeans.cluster_centers_[:,0],kmeans.cluster_centers_[:,1],'go', label='Centers')\n",
        "\n",
        "for nom, x, y in zip(df_employes.index,df_pca[:,0],df_pca[:,1]):\n",
        "  plt.annotate(nom, xy =(x, y), xycoords=\"data\")"
      ]
    },
    {
      "cell_type": "markdown",
      "metadata": {},
      "source": [
        "# Projection d'un nouveau employé sur le plan 2D"
      ]
    },
    {
      "cell_type": "code",
      "execution_count": 57,
      "metadata": {},
      "outputs": [],
      "source": [
        "import pandas as pd"
      ]
    },
    {
      "cell_type": "code",
      "execution_count": 58,
      "metadata": {
        "id": "gt7TwkpAEuvg"
      },
      "outputs": [],
      "source": [
        "new = pd.DataFrame([[3500.44,600,\"marie\",\"09/12/1990\"]], index=['Moufid'] , columns=df_employes.columns)"
      ]
    },
    {
      "cell_type": "code",
      "execution_count": 60,
      "metadata": {},
      "outputs": [],
      "source": [
        "df_new_ = new.copy()\n",
        "df_new_.fillna({'salaire':df_['salaire'].mean(),'prime':df_['prime'].mean()}, inplace=True)\n",
        "df_new_['date recrutement']=pd.to_datetime(df_new_['date recrutement'])\n",
        "from datetime import datetime\n",
        "df_new_['anciennete']=df_new_['date recrutement'].apply(lambda x: datetime.now().year-x.year)\n",
        "df_new_.drop(['date recrutement'], axis=1, inplace=True,errors='ignore')\n",
        "etat_civil_sparse= ohe.transform(df_new_[['etat civil']])\n",
        "etat_civil=etat_civil_sparse.toarray()\n",
        "df_etat_civil=pd.DataFrame(etat_civil, index=df_new_.index, columns=['etat civil celib', 'etat civil marie'])\n",
        "df_new_=pd.concat([df_new_, df_etat_civil], axis=1)\n",
        "df_new_.drop(['etat civil'], axis=1, inplace=True,errors='ignore')\n",
        "df_new_ss_= ss.transform(df_new_)\n",
        "df_new_pca_= pca.transform(df_new_ss_)\n",
        "\n",
        "label_new=kmeans.predict(df_new_pca_)\n"
      ]
    },
    {
      "cell_type": "code",
      "execution_count": 64,
      "metadata": {},
      "outputs": [
        {
          "data": {
            "text/plain": [
              "[<matplotlib.lines.Line2D at 0x7f0f4f46b250>]"
            ]
          },
          "execution_count": 64,
          "metadata": {},
          "output_type": "execute_result"
        },
        {
          "data": {
            "image/png": "[encoded data removed]",
            "text/plain": [
              "<Figure size 640x480 with 1 Axes>"
            ]
          },
          "metadata": {},
          "output_type": "display_data"
        }
      ],
      "source": [
        "import matplotlib.pyplot as plt\n",
        "\n",
        "plt.plot(cluster0[:,0],cluster0[:,1],'r+', label='Cluster 0')\n",
        "plt.plot(cluster1[:,0],cluster1[:,1],'b+', label='Cluster 1')\n",
        "# show centers\n",
        "plt.plot(kmeans.cluster_centers_[:,0],kmeans.cluster_centers_[:,1],'go', label='Centers')\n",
        "\n",
        "for nom, x, y in zip(df_employes.index,df_pca[:,0],df_pca[:,1]):\n",
        "  plt.annotate(nom, xy =(x, y), xycoords=\"data\")\n",
        "\n",
        "plt.plot(df_new_pca_[:,0],df_new_pca_[:,1],'y+', label='new employe')"
      ]
    },
    {
      "cell_type": "code",
      "execution_count": null,
      "metadata": {},
      "outputs": [],
      "source": []
    }
  ],
  "metadata": {
    "colab": {
      "collapsed_sections": [],
      "provenance": []
    },
    "kernelspec": {
      "display_name": "Python 3.10.2 64-bit",
      "language": "python",
      "name": "python3"
    },
    "language_info": {
      "codemirror_mode": {
        "name": "ipython",
        "version": 3
      },
      "file_extension": ".py",
      "mimetype": "text/x-python",
      "name": "python",
      "nbconvert_exporter": "python",
      "pygments_lexer": "ipython3",
      "version": "3.10.2"
    },
    "vscode": {
      "interpreter": {
        "hash": "369f2c481f4da34e4445cda3fffd2e751bd1c4d706f27375911949ba6bb62e1c"
      }
    }
  },
  "nbformat": 4,
  "nbformat_minor": 0
}
