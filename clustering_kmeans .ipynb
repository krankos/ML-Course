{
  "cells": [
    {
      "cell_type": "markdown",
      "metadata": {
        "id": "DnAHeymRpgW6"
      },
      "source": [
        "**Description**\n"
      ]
    },
    {
      "cell_type": "markdown",
      "metadata": {
        "id": "mnI4YC-Xp1d9"
      },
      "source": [
        "Kmeans est une technique de Machine Learning qui est utilisée pour le regroupement des données (clustering) en groupes (clusters).\n",
        "\n",
        "_Modèle:_\n",
        "\n",
        "Le modèle de Kmeans est l'ensemble des centres des clusters.\n",
        "\n",
        "_Hyperparamètre:_\n",
        "\n",
        "Kmeans a un hyperparamètre appelé K qui représente le nombre de clusters.\n",
        "\n",
        "_Apprentissage:_\n",
        "\n",
        "L'algorithme d'apprentissage de Kmeans est non supervisé : il apprend avec des données non étiquetées. Cet algorithme essaie de trouver les centres des clusters optimales.\n",
        "\n",
        "_Prédiction:_\n",
        "\n",
        "Une fois l'apprentissage est fini, Kmeans permet de prédire pour un point donné à quel groupe il appartient.\n"
      ]
    },
    {
      "cell_type": "markdown",
      "metadata": {
        "id": "6m5N15rERu7c"
      },
      "source": [
        "**Données d'apprentissage**\n",
        "\n",
        "Soit une population ds employés qu'on veut regrouper en clusters.\n",
        "\n",
        "Créer une matrice des données d'employés X (comme étant des points de même dimension).\n",
        "\n",
        "              X=[1100.67 31\n",
        "                 3500.98 58\n",
        "                 1300.58 35\n",
        "                 3100.98 55\n",
        "                 1200.77 32]\n"
      ]
    },
    {
      "cell_type": "code",
      "execution_count": 9,
      "metadata": {
        "id": "BXWkHu53Rujj"
      },
      "outputs": [],
      "source": [
        "import numpy as np\n",
        "\n",
        "employees= np.array([[1100.67,31],[3500.98,58],[1300.58,35],[3100.98,55],[1200.77,32]])"
      ]
    },
    {
      "cell_type": "markdown",
      "metadata": {
        "id": "Jf2lQtSHt5ha"
      },
      "source": [
        "**Hyperparamètre**\n",
        "\n",
        "Choisir le nombre des clusters K\n"
      ]
    },
    {
      "cell_type": "code",
      "execution_count": 10,
      "metadata": {
        "id": "QmZLC8Fft-11"
      },
      "outputs": [],
      "source": [
        "#\n",
        "k=2"
      ]
    },
    {
      "cell_type": "markdown",
      "metadata": {
        "id": "BLSrONc9rXLY"
      },
      "source": [
        "**Modèle**\n"
      ]
    },
    {
      "cell_type": "markdown",
      "metadata": {
        "id": "E40gTT0Kpq26"
      },
      "source": [
        "Initialiser les centres des clusters\n",
        "\n",
        "Choisir d'une façon aléatoire K points des données comme centres des clusters.\n",
        "\n",
        "Notes:\n",
        "\n",
        "- Mettre les centres intiales dans une matrice M\n",
        "- Utiliser la fonction random.choice()\n"
      ]
    },
    {
      "cell_type": "code",
      "execution_count": 16,
      "metadata": {
        "id": "K8b6XPOTpt_F"
      },
      "outputs": [
        {
          "name": "stdout",
          "output_type": "stream",
          "text": [
            "[[3100.98, 55.0], [3500.98, 58.0]]\n"
          ]
        }
      ],
      "source": [
        "# Randomly select k points from the dataset\n",
        "import random\n",
        "\n",
        "M = random.sample(employees.tolist(), k)\n",
        "print(M)\n"
      ]
    },
    {
      "cell_type": "markdown",
      "metadata": {
        "id": "2jdvBY3JuDOQ"
      },
      "source": [
        "**Apprentissage**\n"
      ]
    },
    {
      "cell_type": "markdown",
      "metadata": {
        "id": "huyacmnbunBt"
      },
      "source": [
        "L'algorithme est comme suit :\n",
        "\n",
        "          Pour chaque t de 0 jusqu'à T-1 faire\n",
        "            Pour chaque point p des données faire\n",
        "              Pour chaque centre m_i des clusters M faire\n",
        "                d=distance euclidienne(p,m_i)\n",
        "                Ajouter d dans distances\n",
        "              label de p = argmin(distances)\n",
        "              Ajouter label à labels\n",
        "            Pour chaque centre m_i des clusters faire\n",
        "              c=moyenne arithmétique des points ayant label egale à i\n"
      ]
    },
    {
      "cell_type": "markdown",
      "metadata": {
        "id": "deqlYW8ax1CP"
      },
      "source": [
        "Etape 1: Implémenter la fonction predire_label() qui prend un point p et qui retourne le label de cluster auquel p appartient.\n",
        "\n",
        "        Pour chaque centre m_i des clusters M faire\n",
        "            d=distance euclidienne(p,m_i)\n",
        "            Ajouter d dans distances\n",
        "        label de p = argmin(distances)\n",
        "\n",
        "Notes:\n",
        "\n",
        "- Utiliser M comme variable globale.\n",
        "- Utiliser la fonction np.argmin()\n"
      ]
    },
    {
      "cell_type": "code",
      "execution_count": 12,
      "metadata": {
        "id": "642iRH6UulwM"
      },
      "outputs": [],
      "source": [
        "def predict_label(p):\n",
        "    distances = np.empty(k)\n",
        "    for m in M:\n",
        "        d= np.linalg.norm(p-m)\n",
        "        distances = np.append(distances, d)\n",
        "    return np.argmin(distances)\n"
      ]
    },
    {
      "cell_type": "markdown",
      "metadata": {
        "id": "6pIRrZP_yoaF"
      },
      "source": [
        "Etape 2: Définir la fonction determiner_labels() qui prend un ensemble des points X et qui retourne les labels de tous les points.\n",
        "\n",
        "Cette fonction impélmente la partie de l'algorithme d'apprentissage suivante:\n",
        "\n",
        "          Pour chaque point p des données faire\n",
        "              Pour chaque centre m_i des clusters M faire\n",
        "                d=distance euclidienne(p,m_i)\n",
        "                Ajouter d dans distances\n",
        "              label de p = argmin(distances)\n",
        "              Ajouter label à labels\n",
        "\n",
        "Note:\n",
        "\n",
        "- Un label designe l'indice de groupe auquel apparetient un point.\n",
        "- Utiliser la fonction predire_label()\n",
        "- Utiliser M comme variable globale.\n"
      ]
    },
    {
      "cell_type": "code",
      "execution_count": 17,
      "metadata": {
        "id": "Nnzb5g-50p6C"
      },
      "outputs": [],
      "source": [
        "def determine_labels(X):\n",
        "    labels = np.empty(X.shape[0])\n",
        "    for x in X:\n",
        "        labed=predict_label(x)\n",
        "        labels = np.append(labels, labed)\n",
        "    return labels\n",
        "        \n",
        "        "
      ]
    },
    {
      "cell_type": "markdown",
      "metadata": {
        "id": "JPXmfBbd0u7F"
      },
      "source": [
        "Etape 3: Définir une fonction mettre_a_jour_centres() qui prend les points et leurs labels d'appartenance aux clusters.\n",
        "\n",
        "          Pour chaque centre m_i des clusters faire\n",
        "              m_i=moyenne arithmétique des points ayant label egale à i\n",
        "\n",
        "Note:\n",
        "\n",
        "- Utiliser np.mean()\n"
      ]
    },
    {
      "cell_type": "code",
      "execution_count": 32,
      "metadata": {
        "id": "0gYvX6QK1yM2"
      },
      "outputs": [],
      "source": [
        "def update_centroids(X, labels):\n",
        "    for m in M:\n",
        "        m = np.mean(X[labels==m], axis=0)"
      ]
    },
    {
      "cell_type": "code",
      "execution_count": null,
      "metadata": {},
      "outputs": [],
      "source": []
    },
    {
      "cell_type": "code",
      "execution_count": null,
      "metadata": {},
      "outputs": [],
      "source": []
    },
    {
      "cell_type": "markdown",
      "metadata": {
        "id": "R11nasb52BqU"
      },
      "source": [
        "Etape 4:\n",
        "\n",
        "Définir la fonction fit() qui implémente tout l'algorithme d'apprentissage. Elle prend l'ensemble des points X et elle met à jour M (les centres des clusters).\n",
        "\n",
        "Notes:\n",
        "\n",
        "- Utiliser M comme une variable globale.\n",
        "- Utiliser les fonctions determiner_labels() et les fonctions mettre_a_jour()\n"
      ]
    },
    {
      "cell_type": "code",
      "execution_count": 22,
      "metadata": {
        "id": "q3HBBokt4Fo1"
      },
      "outputs": [],
      "source": [
        "def fit(X):\n",
        "    for t in range(10):\n",
        "        labels = determine_labels(X)\n",
        "        update_centroids(X, labels)\n",
        "    \n",
        "    "
      ]
    },
    {
      "cell_type": "markdown",
      "metadata": {
        "id": "tUFCmV-u7jaF"
      },
      "source": [
        "**Prédiction**\n",
        "\n",
        "Définir une fonction predict() qui prend une matrice des points d'employés X. Elle retourne les labels de ces points.\n",
        "\n",
        "Note:\n",
        "\n",
        "- Utiliser la fonction predire_label\n",
        "- Utiliser M comme variable globale.\n"
      ]
    },
    {
      "cell_type": "code",
      "execution_count": 23,
      "metadata": {
        "id": "EgkuTmPT8GGp"
      },
      "outputs": [],
      "source": [
        "def predict(X):\n",
        "    result = np.empty(X.shape[0])\n",
        "    for x in X:\n",
        "        result = np.append(result, predict_label(x))\n",
        "    return result\n"
      ]
    },
    {
      "cell_type": "markdown",
      "metadata": {
        "id": "b4qWcMnO8HdF"
      },
      "source": [
        "**Recap**\n",
        "\n",
        "Nous allons définir Kmeans sous la forme d'une classe que vous appelez Kmeans.\n",
        "\n",
        "Elle contient les fonctions suivantes:\n",
        "\n",
        "- un constructeur dans lequel:\n",
        "  - L'hyperparamètre K est considéré comme attribut d'objet. Il permet de l'initialiser.\n",
        "  - Le modèle M (les centres de clusters) est initialisé aléatoirement\n",
        "- la fonction fit() définie ci-dessus\n",
        "- la fonction predict() définie ci-dessus\n"
      ]
    },
    {
      "cell_type": "code",
      "execution_count": 61,
      "metadata": {
        "id": "7x7LgAoG8ppV"
      },
      "outputs": [],
      "source": [
        "class Kmeans:\n",
        "    import numpy as np\n",
        "    import random\n",
        "\n",
        "    def __init__(self,k,iters=10):\n",
        "        self.k = k\n",
        "        self.iters = iters\n",
        "\n",
        "    def predict_label(self,p):\n",
        "        distances = []\n",
        "        for m in self.M:\n",
        "            d= np.linalg.norm(p-m)\n",
        "            distances = np.append(distances, d)\n",
        "        return np.argmin(distances)\n",
        "\n",
        "    def determine_labels(self,X):\n",
        "        labels = []\n",
        "        for x in X:\n",
        "            label=self.predict_label(x)\n",
        "            labels = np.append(labels, label)\n",
        "        return labels\n",
        "\n",
        "    def update_centroids(self,X, labels):\n",
        "        for i,m in enumerate(self.M):\n",
        "            self.M[i] = np.mean(X[labels==i], axis=0)\n",
        "    def fit(self,X):\n",
        "        import random\n",
        "        self.M = random.sample(X.tolist(), self.k)\n",
        "        for t in range(10):\n",
        "            labels = self.determine_labels(X)\n",
        "            self.update_centroids(X, labels)\n",
        "\n",
        "    def predict(self,X):\n",
        "        result = []\n",
        "        for x in X:\n",
        "            result = np.append(result, self.predict_label(x))\n",
        "        return result\n",
        "\n",
        "    "
      ]
    },
    {
      "cell_type": "code",
      "execution_count": 62,
      "metadata": {},
      "outputs": [],
      "source": [
        "import numpy as np\n",
        "\n",
        "employees= np.array([[1100.67,31],[3500.98,58],[1300.58,35],[3100.98,55],[1200.77,32]])"
      ]
    },
    {
      "cell_type": "code",
      "execution_count": 63,
      "metadata": {},
      "outputs": [],
      "source": [
        "km=Kmeans(2)"
      ]
    },
    {
      "cell_type": "code",
      "execution_count": 64,
      "metadata": {},
      "outputs": [],
      "source": [
        "km.fit(employees)"
      ]
    },
    {
      "cell_type": "code",
      "execution_count": 67,
      "metadata": {},
      "outputs": [
        {
          "data": {
            "text/plain": [
              "array([1., 0.])"
            ]
          },
          "execution_count": 67,
          "metadata": {},
          "output_type": "execute_result"
        }
      ],
      "source": [
        "km.predict([[3000,55],[1100,31]])"
      ]
    },
    {
      "cell_type": "code",
      "execution_count": 84,
      "metadata": {},
      "outputs": [
        {
          "data": {
            "image/png": "[encoded data removed]",
            "text/plain": [
              "<Figure size 640x480 with 1 Axes>"
            ]
          },
          "metadata": {},
          "output_type": "display_data"
        }
      ],
      "source": [
        "# example of k-means clustering\n",
        "# test data consisting of 2 clusters of senior and junior employees with their salaries and ages \n",
        "# we want to cluster them into 2 groups based on their salaries and ages\n",
        "test_data = np.array([[1600,38],[1950,44],[2000,39],[2300,43],[2550,46],[4500,45],[1200.89,28],[3600,56],[1500.58,32],[3050.66,55],[1300.77,35],[4000,60], [1100.67,31],[3500.98,58],[1300.58,35],[3100.98,55],[1200.77,32]])\n",
        "# visualizing the data\n",
        "import matplotlib.pyplot as plt\n",
        "plt.scatter(test_data[:,0], test_data[:,1])\n",
        "plt.show()\n"
      ]
    },
    {
      "cell_type": "code",
      "execution_count": 85,
      "metadata": {},
      "outputs": [
        {
          "data": {
            "text/plain": [
              "<matplotlib.collections.PathCollection at 0x7f6eb0e96b30>"
            ]
          },
          "execution_count": 85,
          "metadata": {},
          "output_type": "execute_result"
        },
        {
          "data": {
            "image/png": "[encoded data removed]",
            "text/plain": [
              "<Figure size 640x480 with 1 Axes>"
            ]
          },
          "metadata": {},
          "output_type": "display_data"
        }
      ],
      "source": [
        "# k-means clustering\n",
        "k =2\n",
        "clusters=km.predict(test_data)\n",
        "#show first cluster with red and second with blue\n",
        "plt.scatter(test_data[clusters==0,0], test_data[clusters==0,1], c='red')\n",
        "plt.scatter(test_data[clusters==1,0], test_data[clusters==1,1], c='blue')\n",
        "\n"
      ]
    },
    {
      "cell_type": "code",
      "execution_count": null,
      "metadata": {},
      "outputs": [],
      "source": []
    },
    {
      "cell_type": "code",
      "execution_count": null,
      "metadata": {},
      "outputs": [],
      "source": []
    }
  ],
  "metadata": {
    "colab": {
      "collapsed_sections": [],
      "provenance": []
    },
    "kernelspec": {
      "display_name": "Python 3.10.6 64-bit",
      "language": "python",
      "name": "python3"
    },
    "language_info": {
      "codemirror_mode": {
        "name": "ipython",
        "version": 3
      },
      "file_extension": ".py",
      "mimetype": "text/x-python",
      "name": "python",
      "nbconvert_exporter": "python",
      "pygments_lexer": "ipython3",
      "version": "3.10.6"
    },
    "vscode": {
      "interpreter": {
        "hash": "d2152fd7f0bbc62aa1baff8c990435d1e2c7175d001561303988032604c11a48"
      }
    }
  },
  "nbformat": 4,
  "nbformat_minor": 0
}
