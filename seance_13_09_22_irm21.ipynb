{
  "cells": [
    {
      "cell_type": "markdown",
      "metadata": {
        "id": "sj3Q_Tv_foY4"
      },
      "source": [
        "**Manipulation des données avec Numpy**"
      ]
    },
    {
      "cell_type": "markdown",
      "metadata": {
        "id": "pNGo4ijdi7HX"
      },
      "source": [
        "On doit importer la bibliothèque (module) numpy"
      ]
    },
    {
      "cell_type": "code",
      "execution_count": 1,
      "metadata": {
        "id": "v-Acplvsi2qv"
      },
      "outputs": [],
      "source": [
        "import numpy as np"
      ]
    },
    {
      "cell_type": "markdown",
      "metadata": {
        "id": "76hjdeqRixJo"
      },
      "source": [
        "Les scalaires"
      ]
    },
    {
      "cell_type": "code",
      "execution_count": 2,
      "metadata": {
        "colab": {
          "base_uri": "https://localhost:8080/"
        },
        "id": "koda-_Hhat_a",
        "outputId": "99d70ead-6d9c-40cf-beaa-a902a465a2d1"
      },
      "outputs": [
        {
          "data": {
            "text/plain": [
              "3"
            ]
          },
          "execution_count": 2,
          "metadata": {},
          "output_type": "execute_result"
        }
      ],
      "source": [
        " x=1\n",
        " y=2\n",
        " z=x+y\n",
        " z"
      ]
    },
    {
      "cell_type": "markdown",
      "metadata": {
        "id": "IzsyyhIEiy4_"
      },
      "source": [
        "Les vecteurs"
      ]
    },
    {
      "cell_type": "code",
      "execution_count": 3,
      "metadata": {
        "colab": {
          "base_uri": "https://localhost:8080/"
        },
        "id": "Dpt06lVmitOd",
        "outputId": "63be0649-f095-4c0a-d8df-b7f4229100e0"
      },
      "outputs": [
        {
          "data": {
            "text/plain": [
              "array([2, 3, 4])"
            ]
          },
          "execution_count": 3,
          "metadata": {},
          "output_type": "execute_result"
        }
      ],
      "source": [
        "x=np.array([1,2,3])\n",
        "y=np.array([1,1,1])\n",
        "z=x+y\n",
        "z"
      ]
    },
    {
      "cell_type": "markdown",
      "metadata": {
        "id": "sJrEvGJfjHcH"
      },
      "source": [
        "Les matrices"
      ]
    },
    {
      "cell_type": "code",
      "execution_count": 4,
      "metadata": {
        "colab": {
          "base_uri": "https://localhost:8080/"
        },
        "id": "9lDsM5CQjEsc",
        "outputId": "a1ed0162-a074-4872-f837-ed6b961309b4"
      },
      "outputs": [
        {
          "data": {
            "text/plain": [
              "array([[2, 3, 4],\n",
              "       [6, 7, 8]])"
            ]
          },
          "execution_count": 4,
          "metadata": {},
          "output_type": "execute_result"
        }
      ],
      "source": [
        "X=np.array([[1,2,3],[4,5,6]])\n",
        "Y=np.array([[1,1,1],[2,2,2]])\n",
        "Z=X+Y\n",
        "Z"
      ]
    },
    {
      "cell_type": "markdown",
      "metadata": {
        "id": "xT7eCCVUkKr3"
      },
      "source": [
        "**Objet mathématique**"
      ]
    },
    {
      "cell_type": "code",
      "execution_count": 5,
      "metadata": {
        "id": "vdrPVmsdj81G"
      },
      "outputs": [],
      "source": [
        "x=np.array([1,2,3])"
      ]
    },
    {
      "cell_type": "code",
      "execution_count": 6,
      "metadata": {
        "colab": {
          "base_uri": "https://localhost:8080/"
        },
        "id": "8Yj1K3KukS60",
        "outputId": "d01bb44b-3912-4ed6-d080-dc568263160c"
      },
      "outputs": [
        {
          "data": {
            "text/plain": [
              "dtype('int64')"
            ]
          },
          "execution_count": 6,
          "metadata": {},
          "output_type": "execute_result"
        }
      ],
      "source": [
        "x.dtype"
      ]
    },
    {
      "cell_type": "code",
      "execution_count": 7,
      "metadata": {
        "id": "EgCTyBd0kfHG"
      },
      "outputs": [],
      "source": [
        "x=np.array([1,2,3],dtype=np.uint8)"
      ]
    },
    {
      "cell_type": "code",
      "execution_count": 8,
      "metadata": {
        "colab": {
          "base_uri": "https://localhost:8080/"
        },
        "id": "oKZs-GjmwfUk",
        "outputId": "a06bbce2-d3f8-4725-9cf8-3639c9933c36"
      },
      "outputs": [
        {
          "data": {
            "text/plain": [
              "array([1, 2, 3], dtype=uint8)"
            ]
          },
          "execution_count": 8,
          "metadata": {},
          "output_type": "execute_result"
        }
      ],
      "source": [
        "x"
      ]
    },
    {
      "cell_type": "code",
      "execution_count": 9,
      "metadata": {
        "colab": {
          "base_uri": "https://localhost:8080/"
        },
        "id": "9WU-As1wwoMF",
        "outputId": "8944828c-b54b-43b8-e66b-c80283760e25"
      },
      "outputs": [
        {
          "data": {
            "text/plain": [
              "dtype('uint8')"
            ]
          },
          "execution_count": 9,
          "metadata": {},
          "output_type": "execute_result"
        }
      ],
      "source": [
        "x.dtype"
      ]
    },
    {
      "cell_type": "code",
      "execution_count": 10,
      "metadata": {
        "colab": {
          "base_uri": "https://localhost:8080/"
        },
        "id": "BZN8xaG7wqIE",
        "outputId": "028cf03d-e2f0-4892-f082-c4cb69980655"
      },
      "outputs": [
        {
          "data": {
            "text/plain": [
              "array([301, 302, 303], dtype=uint16)"
            ]
          },
          "execution_count": 10,
          "metadata": {},
          "output_type": "execute_result"
        }
      ],
      "source": [
        "x+300"
      ]
    },
    {
      "cell_type": "code",
      "execution_count": 11,
      "metadata": {
        "id": "dPBQEmWyw9sJ"
      },
      "outputs": [],
      "source": [
        "x=np.array([1,2,300],dtype=np.uint8)"
      ]
    },
    {
      "cell_type": "code",
      "execution_count": 12,
      "metadata": {
        "colab": {
          "base_uri": "https://localhost:8080/"
        },
        "id": "p45EfSLexRe5",
        "outputId": "7f0cd8fd-8b25-4cf4-ccb4-0c5f050c23ee"
      },
      "outputs": [
        {
          "data": {
            "text/plain": [
              "array([ 1,  2, 44], dtype=uint8)"
            ]
          },
          "execution_count": 12,
          "metadata": {},
          "output_type": "execute_result"
        }
      ],
      "source": [
        "x"
      ]
    },
    {
      "cell_type": "code",
      "execution_count": 13,
      "metadata": {
        "colab": {
          "base_uri": "https://localhost:8080/"
        },
        "id": "TvqhLLtVxVNa",
        "outputId": "5128279f-fdf5-48a3-844a-b219554cc699"
      },
      "outputs": [
        {
          "data": {
            "text/plain": [
              "1"
            ]
          },
          "execution_count": 13,
          "metadata": {},
          "output_type": "execute_result"
        }
      ],
      "source": [
        "x.ndim"
      ]
    },
    {
      "cell_type": "code",
      "execution_count": 14,
      "metadata": {
        "colab": {
          "base_uri": "https://localhost:8080/"
        },
        "id": "xP26lHV5x3ro",
        "outputId": "34ef71ee-721f-4cb5-88d2-3136c3bfa5cb"
      },
      "outputs": [
        {
          "data": {
            "text/plain": [
              "(3,)"
            ]
          },
          "execution_count": 14,
          "metadata": {},
          "output_type": "execute_result"
        }
      ],
      "source": [
        "x.shape"
      ]
    },
    {
      "cell_type": "code",
      "execution_count": 15,
      "metadata": {
        "colab": {
          "base_uri": "https://localhost:8080/"
        },
        "id": "SPFdTQpdx626",
        "outputId": "ca9c2ac7-433f-4fad-8ca2-2894809016c9"
      },
      "outputs": [
        {
          "data": {
            "text/plain": [
              "numpy.ndarray"
            ]
          },
          "execution_count": 15,
          "metadata": {},
          "output_type": "execute_result"
        }
      ],
      "source": [
        "type(x)"
      ]
    },
    {
      "cell_type": "code",
      "execution_count": 16,
      "metadata": {
        "id": "nd3wmDbAyceu"
      },
      "outputs": [],
      "source": [
        "x=np.array([1,2,3],dtype=np.uint8)"
      ]
    },
    {
      "cell_type": "code",
      "execution_count": 17,
      "metadata": {
        "colab": {
          "base_uri": "https://localhost:8080/"
        },
        "id": "Xgwj6orryHpu",
        "outputId": "1be74988-ff76-4685-bcff-443b9ac6ec0c"
      },
      "outputs": [
        {
          "data": {
            "text/plain": [
              "6"
            ]
          },
          "execution_count": 17,
          "metadata": {},
          "output_type": "execute_result"
        }
      ],
      "source": [
        "x.sum()"
      ]
    },
    {
      "cell_type": "code",
      "execution_count": 18,
      "metadata": {
        "colab": {
          "base_uri": "https://localhost:8080/"
        },
        "id": "_onL9rlMyZXo",
        "outputId": "fb759f70-7d49-44be-ecbb-f1f0abfa18f8"
      },
      "outputs": [
        {
          "data": {
            "text/plain": [
              "3"
            ]
          },
          "execution_count": 18,
          "metadata": {},
          "output_type": "execute_result"
        }
      ],
      "source": [
        "x.max()"
      ]
    },
    {
      "cell_type": "code",
      "execution_count": 19,
      "metadata": {
        "colab": {
          "base_uri": "https://localhost:8080/"
        },
        "id": "b6S5wrwiygAl",
        "outputId": "28215457-3006-442e-b02b-2a5877821210"
      },
      "outputs": [
        {
          "data": {
            "text/plain": [
              "2"
            ]
          },
          "execution_count": 19,
          "metadata": {},
          "output_type": "execute_result"
        }
      ],
      "source": [
        "x.argmax()"
      ]
    },
    {
      "cell_type": "code",
      "execution_count": 20,
      "metadata": {
        "colab": {
          "base_uri": "https://localhost:8080/"
        },
        "id": "c54jzw6yyhyC",
        "outputId": "1b410a28-40d5-4bb6-db92-b4d671dd6486"
      },
      "outputs": [
        {
          "data": {
            "text/plain": [
              "1"
            ]
          },
          "execution_count": 20,
          "metadata": {},
          "output_type": "execute_result"
        }
      ],
      "source": [
        "x[0]"
      ]
    },
    {
      "cell_type": "code",
      "execution_count": 21,
      "metadata": {
        "colab": {
          "base_uri": "https://localhost:8080/"
        },
        "id": "tSjx5nqyysXt",
        "outputId": "0e503cd3-ed33-45c7-df89-ee4ca846ada2"
      },
      "outputs": [
        {
          "data": {
            "text/plain": [
              "3"
            ]
          },
          "execution_count": 21,
          "metadata": {},
          "output_type": "execute_result"
        }
      ],
      "source": [
        "x[-1]"
      ]
    },
    {
      "cell_type": "code",
      "execution_count": 22,
      "metadata": {
        "colab": {
          "base_uri": "https://localhost:8080/"
        },
        "id": "KAcJOvaQyvMo",
        "outputId": "fe4ccec5-74cf-439c-8063-a453500871e0"
      },
      "outputs": [
        {
          "data": {
            "text/plain": [
              "array([1, 2], dtype=uint8)"
            ]
          },
          "execution_count": 22,
          "metadata": {},
          "output_type": "execute_result"
        }
      ],
      "source": [
        "x[:2]"
      ]
    },
    {
      "cell_type": "code",
      "execution_count": 23,
      "metadata": {
        "colab": {
          "base_uri": "https://localhost:8080/"
        },
        "id": "oP_ZwG39y0wU",
        "outputId": "8c0b138f-c6f3-4307-ce4c-4a0b648c6471"
      },
      "outputs": [
        {
          "data": {
            "text/plain": [
              "array([3, 2, 1], dtype=uint8)"
            ]
          },
          "execution_count": 23,
          "metadata": {},
          "output_type": "execute_result"
        }
      ],
      "source": [
        "x[::-1]"
      ]
    },
    {
      "cell_type": "code",
      "execution_count": 24,
      "metadata": {
        "colab": {
          "base_uri": "https://localhost:8080/"
        },
        "id": "EOyOXcqdy4LH",
        "outputId": "4f1d6b40-1511-4ce1-f4c6-41990afec5de"
      },
      "outputs": [
        {
          "data": {
            "text/plain": [
              "3"
            ]
          },
          "execution_count": 24,
          "metadata": {},
          "output_type": "execute_result"
        }
      ],
      "source": [
        "len(x)"
      ]
    },
    {
      "cell_type": "code",
      "execution_count": 25,
      "metadata": {
        "colab": {
          "base_uri": "https://localhost:8080/"
        },
        "id": "bxu4VYOjy5fv",
        "outputId": "c8a51bfc-787c-40bb-b9e6-e4ac97f86dfc"
      },
      "outputs": [
        {
          "data": {
            "text/plain": [
              "[1, 2, 3]"
            ]
          },
          "execution_count": 25,
          "metadata": {},
          "output_type": "execute_result"
        }
      ],
      "source": [
        "x.tolist()"
      ]
    },
    {
      "cell_type": "code",
      "execution_count": 26,
      "metadata": {
        "id": "Ts3fl14ezE4P"
      },
      "outputs": [],
      "source": [
        "L=[1,2,3]\n",
        "x=np.array(L)"
      ]
    },
    {
      "cell_type": "code",
      "execution_count": 27,
      "metadata": {
        "colab": {
          "base_uri": "https://localhost:8080/"
        },
        "id": "yyABmtYbzJWs",
        "outputId": "099509e9-4152-4c31-c149-0b4137760fc5"
      },
      "outputs": [
        {
          "data": {
            "text/plain": [
              "array([1, 2, 3])"
            ]
          },
          "execution_count": 27,
          "metadata": {},
          "output_type": "execute_result"
        }
      ],
      "source": [
        "x"
      ]
    },
    {
      "cell_type": "code",
      "execution_count": 28,
      "metadata": {
        "colab": {
          "base_uri": "https://localhost:8080/"
        },
        "id": "eAX3tUB8zJys",
        "outputId": "bd1f067a-ce46-4d82-ee80-db72ea1e828f"
      },
      "outputs": [
        {
          "data": {
            "text/plain": [
              "array([ 2.71828183,  7.3890561 , 20.08553692])"
            ]
          },
          "execution_count": 28,
          "metadata": {},
          "output_type": "execute_result"
        }
      ],
      "source": [
        "np.exp(x)"
      ]
    },
    {
      "cell_type": "code",
      "execution_count": 29,
      "metadata": {
        "colab": {
          "base_uri": "https://localhost:8080/"
        },
        "id": "nPk2CYZrzVYx",
        "outputId": "11e80cf7-30b6-415e-edff-5bc2fb375981"
      },
      "outputs": [
        {
          "data": {
            "text/plain": [
              "6"
            ]
          },
          "execution_count": 29,
          "metadata": {},
          "output_type": "execute_result"
        }
      ],
      "source": [
        "np.sum(x)"
      ]
    },
    {
      "cell_type": "code",
      "execution_count": 30,
      "metadata": {
        "colab": {
          "base_uri": "https://localhost:8080/"
        },
        "id": "RSYrmYg2zdQU",
        "outputId": "7a4a4bbd-0c49-4b92-c7d7-bb2fef9e5798"
      },
      "outputs": [
        {
          "data": {
            "text/plain": [
              "6"
            ]
          },
          "execution_count": 30,
          "metadata": {},
          "output_type": "execute_result"
        }
      ],
      "source": [
        "x.sum()"
      ]
    },
    {
      "cell_type": "code",
      "execution_count": 31,
      "metadata": {
        "colab": {
          "base_uri": "https://localhost:8080/"
        },
        "id": "yN__8_JUzeHk",
        "outputId": "419fb3de-57e5-4fe9-dd6f-0ff8e3d07bea"
      },
      "outputs": [
        {
          "data": {
            "text/plain": [
              "array([0.5, 1. , 1.5])"
            ]
          },
          "execution_count": 31,
          "metadata": {},
          "output_type": "execute_result"
        }
      ],
      "source": [
        "x/2"
      ]
    },
    {
      "cell_type": "code",
      "execution_count": 32,
      "metadata": {
        "id": "dlc9TKlnzn0D"
      },
      "outputs": [],
      "source": [
        "x.sort()"
      ]
    },
    {
      "cell_type": "code",
      "execution_count": 33,
      "metadata": {
        "colab": {
          "base_uri": "https://localhost:8080/"
        },
        "id": "NKOPBdYf0Tpd",
        "outputId": "abee9055-d48f-42b1-9402-b148de93cacd"
      },
      "outputs": [
        {
          "data": {
            "text/plain": [
              "array([1, 2, 3])"
            ]
          },
          "execution_count": 33,
          "metadata": {},
          "output_type": "execute_result"
        }
      ],
      "source": [
        "x"
      ]
    },
    {
      "cell_type": "code",
      "execution_count": 45,
      "metadata": {},
      "outputs": [],
      "source": [
        "y = x[::-1]"
      ]
    },
    {
      "cell_type": "code",
      "execution_count": 46,
      "metadata": {},
      "outputs": [
        {
          "data": {
            "text/plain": [
              "array([3, 2, 1])"
            ]
          },
          "execution_count": 46,
          "metadata": {},
          "output_type": "execute_result"
        }
      ],
      "source": [
        "y"
      ]
    },
    {
      "cell_type": "code",
      "execution_count": 35,
      "metadata": {
        "id": "c3cRUnWb0VJr"
      },
      "outputs": [
        {
          "ename": "TypeError",
          "evalue": "'NoneType' object is not subscriptable",
          "output_type": "error",
          "traceback": [
            "\u001b[0;31m---------------------------------------------------------------------------\u001b[0m",
            "\u001b[0;31mTypeError\u001b[0m                                 Traceback (most recent call last)",
            "Cell \u001b[0;32mIn [35], line 1\u001b[0m\n\u001b[0;32m----> 1\u001b[0m \u001b[43mx\u001b[49m\u001b[38;5;241;43m.\u001b[39;49m\u001b[43msort\u001b[49m\u001b[43m(\u001b[49m\u001b[43m)\u001b[49m\u001b[43m[\u001b[49m\u001b[43m:\u001b[49m\u001b[43m:\u001b[49m\u001b[38;5;241;43m-\u001b[39;49m\u001b[38;5;241;43m1\u001b[39;49m\u001b[43m]\u001b[49m\n",
            "\u001b[0;31mTypeError\u001b[0m: 'NoneType' object is not subscriptable"
          ]
        }
      ],
      "source": [
        "x.sort()[::-1]"
      ]
    },
    {
      "cell_type": "code",
      "execution_count": 36,
      "metadata": {
        "id": "zhOJWY2W0kFW"
      },
      "outputs": [],
      "source": [
        "def somme(x,y):\n",
        "  return x+y\n",
        "\n",
        "def calcul(x,y,operation=somme):\n",
        "  return operation(x,y)"
      ]
    },
    {
      "cell_type": "code",
      "execution_count": 47,
      "metadata": {
        "colab": {
          "base_uri": "https://localhost:8080/"
        },
        "id": "4KLY5GZ004i5",
        "outputId": "0ca729ef-b263-4aba-95de-5ee41b8a6d90"
      },
      "outputs": [
        {
          "data": {
            "text/plain": [
              "3"
            ]
          },
          "execution_count": 47,
          "metadata": {},
          "output_type": "execute_result"
        }
      ],
      "source": [
        "calcul(1,2)"
      ]
    },
    {
      "cell_type": "code",
      "execution_count": 48,
      "metadata": {
        "id": "C6auIvJy1Gd9"
      },
      "outputs": [],
      "source": [
        "def produit(x,y):\n",
        "  return x*y\n",
        "\n",
        "def soustraction(x,y):\n",
        "  return x-y"
      ]
    },
    {
      "cell_type": "code",
      "execution_count": 49,
      "metadata": {
        "colab": {
          "base_uri": "https://localhost:8080/"
        },
        "id": "AoZKk7g61PG_",
        "outputId": "90dfe95c-913b-40dd-a074-e7a09ef4e9a5"
      },
      "outputs": [
        {
          "data": {
            "text/plain": [
              "2"
            ]
          },
          "execution_count": 49,
          "metadata": {},
          "output_type": "execute_result"
        }
      ],
      "source": [
        "calcul(1,2,produit)"
      ]
    },
    {
      "cell_type": "code",
      "execution_count": 50,
      "metadata": {
        "colab": {
          "base_uri": "https://localhost:8080/"
        },
        "id": "6JXLI4t71R4-",
        "outputId": "b720f05f-032f-43d9-9048-64e301849921"
      },
      "outputs": [
        {
          "data": {
            "text/plain": [
              "function"
            ]
          },
          "execution_count": 50,
          "metadata": {},
          "output_type": "execute_result"
        }
      ],
      "source": [
        "type(somme)"
      ]
    },
    {
      "cell_type": "code",
      "execution_count": 51,
      "metadata": {
        "colab": {
          "base_uri": "https://localhost:8080/"
        },
        "id": "K0T17qwa1aDU",
        "outputId": "5629b9f2-8e4f-4f3e-89ff-0877f629d749"
      },
      "outputs": [
        {
          "data": {
            "text/plain": [
              "array([3, 2, 1], dtype=uint8)"
            ]
          },
          "execution_count": 51,
          "metadata": {},
          "output_type": "execute_result"
        }
      ],
      "source": [
        "x=np.array([1,2,3],dtype=np.uint8)\n",
        "np.sort(x)[::-1]"
      ]
    },
    {
      "cell_type": "markdown",
      "metadata": {
        "id": "7LY3D4OE_kpK"
      },
      "source": [
        "**Exercice recap**"
      ]
    },
    {
      "cell_type": "code",
      "execution_count": 52,
      "metadata": {
        "id": "lkGOY9gb2Lkh"
      },
      "outputs": [],
      "source": [
        "# Soient une population des employés caractérisée par leurs salaires et ages\n",
        "# Soient deux employés Ali (salaire=1600 et age=38) et Sonia (salaire=2100 et age=43)\n",
        "# Soit une requete (salaire=1500 et age=35)\n",
        "# Quel est l'employé le plus proche à la requete ?"
      ]
    },
    {
      "cell_type": "code",
      "execution_count": 53,
      "metadata": {
        "id": "yokuDeMK2ixv"
      },
      "outputs": [],
      "source": [
        "# 1. representation mathematique des données\n",
        "ali=np.array([1600,38])\n",
        "sonia=np.array([2100,43])\n",
        "requete=np.array([1500,35])"
      ]
    },
    {
      "cell_type": "code",
      "execution_count": 54,
      "metadata": {
        "colab": {
          "base_uri": "https://localhost:8080/"
        },
        "id": "zUs46rGK73fD",
        "outputId": "1ef7f9e4-b1ed-46a9-bf9c-a3c4575775a8"
      },
      "outputs": [
        {
          "data": {
            "text/plain": [
              "500.02499937503126"
            ]
          },
          "execution_count": 54,
          "metadata": {},
          "output_type": "execute_result"
        }
      ],
      "source": [
        "np.sqrt(np.dot(ali-sonia,ali-sonia))"
      ]
    },
    {
      "cell_type": "code",
      "execution_count": 55,
      "metadata": {
        "id": "Z-f7s9U77pAi"
      },
      "outputs": [],
      "source": [
        "# 2. calcul/algorithme\n",
        "# approche 1 : on définit la fonction de distance euclidienne\n",
        "def distance(e1,e2):\n",
        "  return np.sqrt(np.dot(e1-e2,e1-e2))"
      ]
    },
    {
      "cell_type": "code",
      "execution_count": 56,
      "metadata": {
        "colab": {
          "base_uri": "https://localhost:8080/"
        },
        "id": "AEuLQntx8QN5",
        "outputId": "6e1303eb-629a-4101-f06e-2226f8415050"
      },
      "outputs": [
        {
          "data": {
            "text/plain": [
              "500.02499937503126"
            ]
          },
          "execution_count": 56,
          "metadata": {},
          "output_type": "execute_result"
        }
      ],
      "source": [
        "from numpy.linalg import norm\n",
        "norm(ali-sonia, ord=2)"
      ]
    },
    {
      "cell_type": "code",
      "execution_count": 57,
      "metadata": {
        "colab": {
          "base_uri": "https://localhost:8080/"
        },
        "id": "dWmYqPGi8qiU",
        "outputId": "c76405d2-305a-4ef5-850f-9e59d43531c9"
      },
      "outputs": [
        {
          "ename": "ModuleNotFoundError",
          "evalue": "No module named 'scipy'",
          "output_type": "error",
          "traceback": [
            "\u001b[0;31m---------------------------------------------------------------------------\u001b[0m",
            "\u001b[0;31mModuleNotFoundError\u001b[0m                       Traceback (most recent call last)",
            "Cell \u001b[0;32mIn [57], line 1\u001b[0m\n\u001b[0;32m----> 1\u001b[0m \u001b[38;5;28;01mfrom\u001b[39;00m \u001b[38;5;21;01mscipy\u001b[39;00m\u001b[38;5;21;01m.\u001b[39;00m\u001b[38;5;21;01mspatial\u001b[39;00m\u001b[38;5;21;01m.\u001b[39;00m\u001b[38;5;21;01mdistance\u001b[39;00m \u001b[38;5;28;01mimport\u001b[39;00m euclidean\n\u001b[1;32m      2\u001b[0m euclidean(ali,sonia)\n",
            "\u001b[0;31mModuleNotFoundError\u001b[0m: No module named 'scipy'"
          ]
        }
      ],
      "source": [
        "from scipy.spatial.distance import euclidean\n",
        "euclidean(ali,sonia)"
      ]
    },
    {
      "cell_type": "code",
      "execution_count": null,
      "metadata": {
        "colab": {
          "base_uri": "https://localhost:8080/"
        },
        "id": "BBChVl4w9HSS",
        "outputId": "f9fa7867-315a-41b4-bb1d-8c8dda8db49e"
      },
      "outputs": [
        {
          "name": "stdout",
          "output_type": "stream",
          "text": [
            "Ali est plus proche !\n"
          ]
        }
      ],
      "source": [
        "d_req_ali=euclidean(requete,ali)\n",
        "d_req_sonia=euclidean(requete,sonia)\n",
        "if d_req_ali<d_req_sonia:\n",
        "  print('Ali est plus proche !')\n",
        "elif d_req_ali>d_req_sonia:\n",
        "  print('Sonia est plus proche !')\n",
        "else:\n",
        "  print('Les deux sont equidistants !')"
      ]
    },
    {
      "cell_type": "code",
      "execution_count": null,
      "metadata": {
        "id": "e9CJSL889y1M"
      },
      "outputs": [],
      "source": [
        "import numpy as np\n",
        "# Les données\n",
        "noms=['Ali','Sonia','Rahma','Saleh','Walid']\n",
        "requete=np.array([2000,40])\n",
        "employes=np.array([[800.5,25],[1500.65,40],[1800.77,43],[2100.566,32],[1400.56,51]])"
      ]
    },
    {
      "cell_type": "code",
      "execution_count": null,
      "metadata": {
        "colab": {
          "base_uri": "https://localhost:8080/"
        },
        "id": "cKVBFNevJ5In",
        "outputId": "bcca37a0-e31a-4aa5-c304-4b8c96972ca6"
      },
      "outputs": [
        {
          "data": {
            "text/plain": [
              "array([2000,   40])"
            ]
          },
          "execution_count": 2,
          "metadata": {},
          "output_type": "execute_result"
        }
      ],
      "source": [
        "requete"
      ]
    },
    {
      "cell_type": "code",
      "execution_count": null,
      "metadata": {
        "colab": {
          "base_uri": "https://localhost:8080/"
        },
        "id": "x1I83s-IJ6bb",
        "outputId": "e47d8101-da19-45f3-b6d3-250779153040"
      },
      "outputs": [
        {
          "data": {
            "text/plain": [
              "array([[ 800.5  ,   25.   ],\n",
              "       [1500.65 ,   40.   ],\n",
              "       [1800.77 ,   43.   ],\n",
              "       [2100.566,   32.   ],\n",
              "       [1400.56 ,   51.   ]])"
            ]
          },
          "execution_count": 3,
          "metadata": {},
          "output_type": "execute_result"
        }
      ],
      "source": [
        "employes"
      ]
    },
    {
      "cell_type": "code",
      "execution_count": null,
      "metadata": {
        "colab": {
          "base_uri": "https://localhost:8080/"
        },
        "id": "yiJN5PYLKbNP",
        "outputId": "1a834e3a-9e06-497f-ac4a-0df888e740ec"
      },
      "outputs": [
        {
          "data": {
            "text/plain": [
              "5"
            ]
          },
          "execution_count": 6,
          "metadata": {},
          "output_type": "execute_result"
        }
      ],
      "source": [
        "# nombre d'employés\n",
        "ne=employes.shape[0]\n",
        "ne"
      ]
    },
    {
      "cell_type": "code",
      "execution_count": null,
      "metadata": {
        "colab": {
          "base_uri": "https://localhost:8080/"
        },
        "id": "KdvCRqIyKt3P",
        "outputId": "353ff2ed-49fb-4d16-8791-5e9e8949b681"
      },
      "outputs": [
        {
          "data": {
            "text/plain": [
              "array([800.5,  25. ])"
            ]
          },
          "execution_count": 7,
          "metadata": {},
          "output_type": "execute_result"
        }
      ],
      "source": [
        "# premier employe dans la matrice employes\n",
        "employes[0,:]"
      ]
    },
    {
      "cell_type": "code",
      "execution_count": null,
      "metadata": {
        "colab": {
          "base_uri": "https://localhost:8080/"
        },
        "id": "gaUsomMRLsj_",
        "outputId": "1c82b3fb-c4bc-42a3-e6fa-a1690bdd0548"
      },
      "outputs": [
        {
          "data": {
            "text/plain": [
              "array([1400.56,   51.  ])"
            ]
          },
          "execution_count": 8,
          "metadata": {},
          "output_type": "execute_result"
        }
      ],
      "source": [
        "# dernier employe dans la matrice employes\n",
        "employes[-1,:]"
      ]
    },
    {
      "cell_type": "code",
      "execution_count": null,
      "metadata": {
        "colab": {
          "base_uri": "https://localhost:8080/"
        },
        "id": "uusbue5pLvpY",
        "outputId": "839bdc5c-7d9b-4685-d9b4-5b1ec8a8b6e4"
      },
      "outputs": [
        {
          "data": {
            "text/plain": [
              "array([25., 40., 43., 32., 51.])"
            ]
          },
          "execution_count": 9,
          "metadata": {},
          "output_type": "execute_result"
        }
      ],
      "source": [
        "# la colonne age\n",
        "employes[:,1]"
      ]
    },
    {
      "cell_type": "code",
      "execution_count": null,
      "metadata": {
        "colab": {
          "base_uri": "https://localhost:8080/"
        },
        "id": "kZPYO1qnLzce",
        "outputId": "44209498-f90c-4ed9-a720-5b9773f6f421"
      },
      "outputs": [
        {
          "data": {
            "text/plain": [
              "array([25., 40., 43., 32., 51.])"
            ]
          },
          "execution_count": 10,
          "metadata": {},
          "output_type": "execute_result"
        }
      ],
      "source": [
        "employes[:,-1]"
      ]
    },
    {
      "cell_type": "code",
      "execution_count": null,
      "metadata": {
        "colab": {
          "base_uri": "https://localhost:8080/"
        },
        "id": "MFEyQohYL1jG",
        "outputId": "31442f6f-26f6-405e-e263-ef682a84121f"
      },
      "outputs": [
        {
          "data": {
            "text/plain": [
              "array([[ 800.5 ,   25.  ],\n",
              "       [1500.65,   40.  ]])"
            ]
          },
          "execution_count": 11,
          "metadata": {},
          "output_type": "execute_result"
        }
      ],
      "source": [
        "# les deux premiers employes\n",
        "employes[[0,1],:]"
      ]
    },
    {
      "cell_type": "code",
      "execution_count": null,
      "metadata": {
        "colab": {
          "base_uri": "https://localhost:8080/"
        },
        "id": "tFpQs3ReMBG-",
        "outputId": "92bf7439-9523-4689-d4c7-73ffd7238cd6"
      },
      "outputs": [
        {
          "data": {
            "text/plain": [
              "1400.56"
            ]
          },
          "execution_count": 14,
          "metadata": {},
          "output_type": "execute_result"
        }
      ],
      "source": [
        "# salaire de dernier employe\n",
        "employes[-1,0]"
      ]
    },
    {
      "cell_type": "code",
      "execution_count": null,
      "metadata": {
        "colab": {
          "base_uri": "https://localhost:8080/"
        },
        "id": "1dQuw-2oL49P",
        "outputId": "b0898754-1e50-41af-e4a9-583d0bc23334"
      },
      "outputs": [
        {
          "data": {
            "text/plain": [
              "array([[ 800.5 ,   25.  ],\n",
              "       [1500.65,   40.  ]])"
            ]
          },
          "execution_count": 12,
          "metadata": {},
          "output_type": "execute_result"
        }
      ],
      "source": [
        "employes[:2,:]"
      ]
    },
    {
      "cell_type": "code",
      "execution_count": null,
      "metadata": {
        "colab": {
          "base_uri": "https://localhost:8080/"
        },
        "id": "aMKIl9UIL7LO",
        "outputId": "1c865a65-3c09-431c-cdc8-bcbd447ba16e"
      },
      "outputs": [
        {
          "data": {
            "text/plain": [
              "array([[1400.56 ,   51.   ],\n",
              "       [2100.566,   32.   ],\n",
              "       [1800.77 ,   43.   ],\n",
              "       [1500.65 ,   40.   ],\n",
              "       [ 800.5  ,   25.   ]])"
            ]
          },
          "execution_count": 13,
          "metadata": {},
          "output_type": "execute_result"
        }
      ],
      "source": [
        "# les employes dans l'ordre inverse\n",
        "employes[::-1,:]"
      ]
    },
    {
      "cell_type": "code",
      "execution_count": null,
      "metadata": {
        "id": "1lznmD86MuGX"
      },
      "outputs": [],
      "source": [
        "# vecteur vide x de dimension 5\n",
        "x=np.empty(5)"
      ]
    },
    {
      "cell_type": "code",
      "execution_count": null,
      "metadata": {
        "colab": {
          "base_uri": "https://localhost:8080/"
        },
        "id": "jIJRqFnLM78H",
        "outputId": "94bae339-28e2-40b9-9ef7-8df98ef35385"
      },
      "outputs": [
        {
          "data": {
            "text/plain": [
              "array([[1.89441053e-316, 3.80430547e-322, 0.00000000e+000],\n",
              "       [0.00000000e+000, 1.41370578e+190, 1.50008929e+248],\n",
              "       [4.31174539e-096, 9.80058441e+252, 1.23971686e+224],\n",
              "       [2.59032484e-144, 6.06003395e+233, 1.06400250e+248],\n",
              "       [2.59050167e-144, 5.22286946e-143, 8.32987087e+151]])"
            ]
          },
          "execution_count": 17,
          "metadata": {},
          "output_type": "execute_result"
        }
      ],
      "source": [
        "# matrice vide de dimension (5,3)\n",
        "X=np.empty((5,3))\n",
        "X"
      ]
    },
    {
      "cell_type": "code",
      "execution_count": null,
      "metadata": {
        "colab": {
          "base_uri": "https://localhost:8080/"
        },
        "id": "82sms2H9NF4Y",
        "outputId": "2c0e16c4-e700-435c-b394-81fd892156fd"
      },
      "outputs": [
        {
          "data": {
            "text/plain": [
              "array([0., 0., 0., 0., 0.])"
            ]
          },
          "execution_count": 19,
          "metadata": {},
          "output_type": "execute_result"
        }
      ],
      "source": [
        "# vecteur de 0 x de dimension 5\n",
        "x=np.zeros(5)\n",
        "x"
      ]
    },
    {
      "cell_type": "code",
      "execution_count": null,
      "metadata": {
        "colab": {
          "base_uri": "https://localhost:8080/"
        },
        "id": "ANMTaemeNYpH",
        "outputId": "e45a4dc8-6814-48dd-b44f-5de799353415"
      },
      "outputs": [
        {
          "data": {
            "text/plain": [
              "array([1., 1., 1., 1., 1.])"
            ]
          },
          "execution_count": 20,
          "metadata": {},
          "output_type": "execute_result"
        }
      ],
      "source": [
        "# vecteur de 1 x de dimension 5\n",
        "x=np.ones(5)\n",
        "x"
      ]
    },
    {
      "cell_type": "code",
      "execution_count": null,
      "metadata": {
        "id": "c_0uc_SoJ7T3"
      },
      "outputs": [],
      "source": [
        "# Algorithm/calcul\n",
        "from scipy.spatial.distance import euclidean\n",
        "# calcul des distances entre les employés et la requete\n",
        "distances=np.empty(ne)\n",
        "for i in range(ne):\n",
        "  # ieme ligne de la matrice employes\n",
        "  distances[i]=euclidean(employes[i,:],requete)"
      ]
    },
    {
      "cell_type": "code",
      "execution_count": null,
      "metadata": {
        "colab": {
          "base_uri": "https://localhost:8080/"
        },
        "id": "2h-TUHkeNk-Q",
        "outputId": "dcd25418-baaa-450f-9322-088d87c72505"
      },
      "outputs": [
        {
          "data": {
            "text/plain": [
              "array([1199.59378541,  499.35      ,  199.25258568,  100.88369718,\n",
              "        599.54091904])"
            ]
          },
          "execution_count": 22,
          "metadata": {},
          "output_type": "execute_result"
        }
      ],
      "source": [
        "distances"
      ]
    },
    {
      "cell_type": "code",
      "execution_count": null,
      "metadata": {
        "colab": {
          "base_uri": "https://localhost:8080/"
        },
        "id": "Wxj9ZP4ZN5Gv",
        "outputId": "861c3165-ea93-4b14-db05-fb737d22d2ff"
      },
      "outputs": [
        {
          "data": {
            "text/plain": [
              "['Ali', 'Sonia', 'Rahma', 'Saleh', 'Walid']"
            ]
          },
          "execution_count": 23,
          "metadata": {},
          "output_type": "execute_result"
        }
      ],
      "source": [
        "noms"
      ]
    },
    {
      "cell_type": "code",
      "execution_count": null,
      "metadata": {
        "colab": {
          "base_uri": "https://localhost:8080/"
        },
        "id": "LJHZiH55N-Oe",
        "outputId": "d3cfd4c0-1932-49d8-ff5e-a379326a598c"
      },
      "outputs": [
        {
          "name": "stdout",
          "output_type": "stream",
          "text": [
            "0 Ali\n",
            "1 Sonia\n",
            "2 Rahma\n",
            "3 Saleh\n",
            "4 Walid\n"
          ]
        }
      ],
      "source": [
        "for i,nom in enumerate(noms):\n",
        "  print(i,nom)"
      ]
    },
    {
      "cell_type": "code",
      "execution_count": null,
      "metadata": {
        "id": "JNoDdSj6NlyQ"
      },
      "outputs": [],
      "source": [
        "distances=np.empty(ne)\n",
        "for i,employe in enumerate(employes):\n",
        "  # ieme ligne de la matrice employes\n",
        "  distances[i]=euclidean(employe,requete)"
      ]
    },
    {
      "cell_type": "code",
      "execution_count": null,
      "metadata": {
        "colab": {
          "base_uri": "https://localhost:8080/"
        },
        "id": "3FDLh0YgOUq9",
        "outputId": "7a06218f-ce8d-4fb9-c8cd-ca32533c09ec"
      },
      "outputs": [
        {
          "data": {
            "text/plain": [
              "array([1199.59378541,  499.35      ,  199.25258568,  100.88369718,\n",
              "        599.54091904])"
            ]
          },
          "execution_count": 27,
          "metadata": {},
          "output_type": "execute_result"
        }
      ],
      "source": [
        "distances"
      ]
    },
    {
      "cell_type": "code",
      "execution_count": null,
      "metadata": {
        "id": "jGFWzVW7O7Xn"
      },
      "outputs": [],
      "source": [
        "scores=np.array([10,2,15,8])"
      ]
    },
    {
      "cell_type": "code",
      "execution_count": null,
      "metadata": {
        "colab": {
          "base_uri": "https://localhost:8080/"
        },
        "id": "caOYb_ulOujt",
        "outputId": "f8893d9d-67c1-4c6b-ae2d-f9ef594ca04f"
      },
      "outputs": [
        {
          "data": {
            "text/plain": [
              "array([ 2,  8, 10, 15])"
            ]
          },
          "execution_count": 29,
          "metadata": {},
          "output_type": "execute_result"
        }
      ],
      "source": [
        "# tri ascendant/croissant\n",
        "np.sort(scores)"
      ]
    },
    {
      "cell_type": "code",
      "execution_count": null,
      "metadata": {
        "colab": {
          "base_uri": "https://localhost:8080/"
        },
        "id": "wkuCDlVQO_5K",
        "outputId": "fba1d9c8-f9f6-4db7-bc63-f4448475b01a"
      },
      "outputs": [
        {
          "data": {
            "text/plain": [
              "array([15, 10,  8,  2])"
            ]
          },
          "execution_count": 30,
          "metadata": {},
          "output_type": "execute_result"
        }
      ],
      "source": [
        "# tri descendant (decroissant)\n",
        "np.sort(scores)[::-1]"
      ]
    },
    {
      "cell_type": "code",
      "execution_count": null,
      "metadata": {
        "colab": {
          "base_uri": "https://localhost:8080/"
        },
        "id": "Sx6YAzb4PaUn",
        "outputId": "4ba437fa-e6c9-4919-c438-5dcef4ab69ab"
      },
      "outputs": [
        {
          "data": {
            "text/plain": [
              "array([10,  2, 15,  8])"
            ]
          },
          "execution_count": 32,
          "metadata": {},
          "output_type": "execute_result"
        }
      ],
      "source": [
        "scores"
      ]
    },
    {
      "cell_type": "code",
      "execution_count": null,
      "metadata": {
        "colab": {
          "base_uri": "https://localhost:8080/"
        },
        "id": "dt5H8vblPBq1",
        "outputId": "72f5e41c-e6c0-4761-e7c9-79d6d6ea9042"
      },
      "outputs": [
        {
          "data": {
            "text/plain": [
              "array([1, 3, 0, 2])"
            ]
          },
          "execution_count": 31,
          "metadata": {},
          "output_type": "execute_result"
        }
      ],
      "source": [
        "# indices triés (tri ascendant)\n",
        "np.argsort(scores)"
      ]
    },
    {
      "cell_type": "code",
      "execution_count": null,
      "metadata": {
        "colab": {
          "base_uri": "https://localhost:8080/"
        },
        "id": "fcV4R3yvPKha",
        "outputId": "4e78bc7d-46e4-4d44-d621-91cfa1f28077"
      },
      "outputs": [
        {
          "data": {
            "text/plain": [
              "array([3, 2, 1, 4, 0])"
            ]
          },
          "execution_count": 34,
          "metadata": {},
          "output_type": "execute_result"
        }
      ],
      "source": [
        "indices_tries=np.argsort(distances)\n",
        "indices_tries"
      ]
    },
    {
      "cell_type": "code",
      "execution_count": null,
      "metadata": {
        "colab": {
          "base_uri": "https://localhost:8080/"
        },
        "id": "Qpv2dVaZQOr2",
        "outputId": "1c8c5867-af14-474b-c586-1788c1268297"
      },
      "outputs": [
        {
          "data": {
            "text/plain": [
              "['Ali', 'Sonia', 'Rahma', 'Saleh', 'Walid']"
            ]
          },
          "execution_count": 38,
          "metadata": {},
          "output_type": "execute_result"
        }
      ],
      "source": [
        "noms"
      ]
    },
    {
      "cell_type": "code",
      "execution_count": null,
      "metadata": {
        "colab": {
          "base_uri": "https://localhost:8080/"
        },
        "id": "Eh1UUfVlPkrL",
        "outputId": "9e8da2c1-3349-4726-c3d4-f7f539881376"
      },
      "outputs": [
        {
          "name": "stdout",
          "output_type": "stream",
          "text": [
            "Saleh [2100.566   32.   ]\n",
            "Rahma [1800.77   43.  ]\n",
            "Sonia [1500.65   40.  ]\n",
            "Walid [1400.56   51.  ]\n",
            "Ali [800.5  25. ]\n"
          ]
        }
      ],
      "source": [
        "for i in indices_tries:\n",
        "  print(noms[i],employes[i,:]) "
      ]
    },
    {
      "cell_type": "code",
      "execution_count": null,
      "metadata": {
        "colab": {
          "base_uri": "https://localhost:8080/"
        },
        "id": "3Nj1DpfrPpAu",
        "outputId": "a4aa11e5-2744-433c-f620-2a0f67d91931"
      },
      "outputs": [
        {
          "data": {
            "text/plain": [
              "array([[5.00433389, 2.02880599],\n",
              "       [5.01501308, 1.99549251],\n",
              "       [5.04085473, 1.99913486],\n",
              "       [4.9957733 , 2.0145532 ],\n",
              "       [4.97013352, 1.95195464],\n",
              "       [5.00546339, 1.99925312],\n",
              "       [5.03722677, 2.00423417],\n",
              "       [4.97078087, 2.0216706 ],\n",
              "       [5.00683875, 2.02628066],\n",
              "       [4.99463512, 1.99947061]])"
            ]
          },
          "execution_count": 53,
          "metadata": {},
          "output_type": "execute_result"
        }
      ],
      "source": []
    },
    {
      "cell_type": "code",
      "execution_count": null,
      "metadata": {
        "colab": {
          "base_uri": "https://localhost:8080/"
        },
        "id": "b3SiT-YaTtFB",
        "outputId": "8e2fffc4-1f73-4879-fd92-7a19c65bf748"
      },
      "outputs": [
        {
          "name": "stdout",
          "output_type": "stream",
          "text": [
            "Entrer un salaire:1500\n",
            "Entrer un age:25\n",
            "Sonia [1500.65   40.  ]\n",
            "Walid [1400.56   51.  ]\n",
            "Rahma [1800.77   43.  ]\n",
            "Saleh [2100.566   32.   ]\n",
            "Ali [800.5  25. ]\n"
          ]
        }
      ],
      "source": [
        "# code complet\n",
        "import numpy as np\n",
        "from scipy.spatial.distance import euclidean\n",
        "# 1. Données (objets mathématiques)\n",
        "noms=['Ali','Sonia','Rahma','Saleh','Walid']\n",
        "employes=np.array([[800.5,25],[1500.65,40],[1800.77,43],[2100.566,32],[1400.56,51]])\n",
        "\n",
        "salaire=float(input('Entrer un salaire:'))\n",
        "age=int(input('Entrer un age:'))\n",
        "requete=np.array([salaire,age])\n",
        "\n",
        "# 2. Algorithm/calcul\n",
        "ne=employes.shape[0]\n",
        "distances=np.empty(ne)\n",
        "for i,employe in enumerate(employes):\n",
        "  # ieme ligne de la matrice employes\n",
        "  distances[i]=euclidean(employe,requete)\n",
        "\n",
        "indices_tries=np.argsort(distances)\n",
        "\n",
        "# 3. Affichage de résultat\n",
        "for i in indices_tries:\n",
        "  print(noms[i],employes[i,:])"
      ]
    },
    {
      "cell_type": "markdown",
      "metadata": {
        "id": "pZxZiGi6XMM2"
      },
      "source": [
        "**Probabilté & Statistiques**"
      ]
    },
    {
      "cell_type": "code",
      "execution_count": 3,
      "metadata": {
        "id": "c0e6dmi-WStz"
      },
      "outputs": [],
      "source": [
        "from numpy.random import standard_normal, normal, multivariate_normal"
      ]
    },
    {
      "cell_type": "code",
      "execution_count": null,
      "metadata": {
        "colab": {
          "base_uri": "https://localhost:8080/"
        },
        "id": "Qpv4kTR7X0b8",
        "outputId": "d09ed715-4cfe-4de9-a4a1-494adb5e49be"
      },
      "outputs": [
        {
          "data": {
            "text/plain": [
              "array([ 0.77857745, -0.93938614, -1.24377982,  1.0928956 ,  0.18012416])"
            ]
          },
          "execution_count": 56,
          "metadata": {},
          "output_type": "execute_result"
        }
      ],
      "source": [
        "# generation des valeurs selon la loi normale standard\n",
        "standard_normal(5)"
      ]
    },
    {
      "cell_type": "code",
      "execution_count": null,
      "metadata": {
        "colab": {
          "base_uri": "https://localhost:8080/"
        },
        "id": "m4ZlUeZTX8AO",
        "outputId": "67f53af8-18dc-4196-e0db-d7457fbdf6df"
      },
      "outputs": [
        {
          "data": {
            "text/plain": [
              "array([ 0.03821897,  0.15121744,  0.92050417, -1.44430173,  1.14123269])"
            ]
          },
          "execution_count": 57,
          "metadata": {},
          "output_type": "execute_result"
        }
      ],
      "source": [
        "standard_normal(size=5)"
      ]
    },
    {
      "cell_type": "code",
      "execution_count": null,
      "metadata": {
        "id": "RGfiMktzX9v-"
      },
      "outputs": [],
      "source": [
        "x=normal(loc=30,scale=0.00001,size=10)"
      ]
    },
    {
      "cell_type": "code",
      "execution_count": null,
      "metadata": {
        "colab": {
          "base_uri": "https://localhost:8080/"
        },
        "id": "PGcAQ-rXZMP-",
        "outputId": "7887d469-8967-4c86-a04f-abeff472b4d5"
      },
      "outputs": [
        {
          "data": {
            "text/plain": [
              "29.99999795315558"
            ]
          },
          "execution_count": 62,
          "metadata": {},
          "output_type": "execute_result"
        }
      ],
      "source": [
        "np.mean(x)"
      ]
    },
    {
      "cell_type": "code",
      "execution_count": null,
      "metadata": {
        "colab": {
          "base_uri": "https://localhost:8080/"
        },
        "id": "1oP6e5vJaAaQ",
        "outputId": "76eef403-8a18-424a-b790-8ef41b9f884b"
      },
      "outputs": [
        {
          "data": {
            "text/plain": [
              "5.574934755314311e-11"
            ]
          },
          "execution_count": 63,
          "metadata": {},
          "output_type": "execute_result"
        }
      ],
      "source": [
        "np.var(x)"
      ]
    },
    {
      "cell_type": "code",
      "execution_count": null,
      "metadata": {
        "id": "Cq022uEjaDVq"
      },
      "outputs": [],
      "source": [
        "# mu : moyenne arithmétique de vecteur aleatoire [salaire,age]\n",
        "mu=np.array([1500,30])\n",
        "# sigma : matrice de covariance de vecteur alatoire [salaire,age]\n",
        "sigma=np.array([[0.00001,0],[0,0.00001]])\n",
        "employes=multivariate_normal(mean=mu,cov=sigma,size=10)"
      ]
    },
    {
      "cell_type": "code",
      "execution_count": null,
      "metadata": {
        "colab": {
          "base_uri": "https://localhost:8080/"
        },
        "id": "FS5z6U-Bb1FI",
        "outputId": "3f411bb8-1399-499b-99ed-30233fdc7803"
      },
      "outputs": [
        {
          "data": {
            "text/plain": [
              "array([1500,   30])"
            ]
          },
          "execution_count": 66,
          "metadata": {},
          "output_type": "execute_result"
        }
      ],
      "source": [
        "mu"
      ]
    },
    {
      "cell_type": "code",
      "execution_count": null,
      "metadata": {
        "colab": {
          "base_uri": "https://localhost:8080/"
        },
        "id": "4myG6Ekhchuc",
        "outputId": "d828a2ce-fecb-47cd-b916-7bf29fb264aa"
      },
      "outputs": [
        {
          "data": {
            "text/plain": [
              "array([[1.e-05, 0.e+00],\n",
              "       [0.e+00, 1.e-05]])"
            ]
          },
          "execution_count": 67,
          "metadata": {},
          "output_type": "execute_result"
        }
      ],
      "source": [
        "sigma"
      ]
    },
    {
      "cell_type": "code",
      "execution_count": null,
      "metadata": {
        "colab": {
          "base_uri": "https://localhost:8080/"
        },
        "id": "2SEoC_e0cizc",
        "outputId": "96c4a650-0e34-4275-a8c6-34b9ec6c5bdb"
      },
      "outputs": [
        {
          "data": {
            "text/plain": [
              "array([[1500.00073903,   29.99585768],\n",
              "       [1499.99720089,   29.99901102],\n",
              "       [1499.9970593 ,   30.00072708],\n",
              "       [1500.00132889,   29.99788139],\n",
              "       [1499.99505145,   30.00076988],\n",
              "       [1500.00211151,   30.00245053],\n",
              "       [1499.99598476,   30.00339184],\n",
              "       [1500.00278643,   30.00098266],\n",
              "       [1500.00007507,   29.99742535],\n",
              "       [1500.00208407,   30.00186706]])"
            ]
          },
          "execution_count": 68,
          "metadata": {},
          "output_type": "execute_result"
        }
      ],
      "source": [
        "employes"
      ]
    },
    {
      "cell_type": "code",
      "execution_count": null,
      "metadata": {
        "colab": {
          "base_uri": "https://localhost:8080/"
        },
        "id": "midnLRLncj8t",
        "outputId": "8a4c88d6-883b-4f3c-8418-7a4542d33748"
      },
      "outputs": [
        {
          "data": {
            "text/plain": [
              "array([[1481.0982289 ,   30.00258816],\n",
              "       [1516.55729538,   29.99520584],\n",
              "       [1534.88485127,   29.99795795],\n",
              "       [1522.40845266,   30.0021118 ],\n",
              "       [1477.2668383 ,   30.00123217],\n",
              "       [1479.74562122,   30.00434542],\n",
              "       [1519.55301132,   29.99861185],\n",
              "       [1434.94827869,   30.00042064],\n",
              "       [1545.80754785,   30.00228427],\n",
              "       [1542.88964933,   30.00278424]])"
            ]
          },
          "execution_count": 71,
          "metadata": {},
          "output_type": "execute_result"
        }
      ],
      "source": [
        "# mu : moyenne arithmétique de vecteur aleatoire [salaire,age]\n",
        "mu=np.array([1500,30])\n",
        "# sigma : matrice de covariance de vecteur alatoire [salaire,age]\n",
        "sigma=np.array([[1000,0],[0,0.00001]])\n",
        "employes=multivariate_normal(mean=mu,cov=sigma,size=10)\n",
        "employes"
      ]
    },
    {
      "cell_type": "code",
      "execution_count": null,
      "metadata": {
        "id": "tDwLOGo-cyBN"
      },
      "outputs": [],
      "source": [
        "import matplotlib.pyplot as plt"
      ]
    },
    {
      "cell_type": "code",
      "execution_count": null,
      "metadata": {
        "colab": {
          "base_uri": "https://localhost:8080/",
          "height": 283
        },
        "id": "IiU2LM9bdaAz",
        "outputId": "9835dc03-12d5-47a5-e73f-86305c3159b2"
      },
      "outputs": [
        {
          "data": {
            "text/plain": [
              "[<matplotlib.lines.Line2D at 0x7fbfcef25390>]"
            ]
          },
          "execution_count": 73,
          "metadata": {},
          "output_type": "execute_result"
        },
        {
          "data": {
            "image/png": "[encoded data removed]",
            "text/plain": [
              "<Figure size 432x288 with 1 Axes>"
            ]
          },
          "metadata": {
            "needs_background": "light"
          },
          "output_type": "display_data"
        }
      ],
      "source": [
        "plt.plot([1,2,3,4],[1,3,5,20])"
      ]
    },
    {
      "cell_type": "code",
      "execution_count": null,
      "metadata": {
        "colab": {
          "base_uri": "https://localhost:8080/",
          "height": 283
        },
        "id": "hF_cNjVsdnyS",
        "outputId": "4b7afd52-17be-4b72-db61-f45d91ee52db"
      },
      "outputs": [
        {
          "data": {
            "text/plain": [
              "[<matplotlib.lines.Line2D at 0x7fbfcee07410>]"
            ]
          },
          "execution_count": 74,
          "metadata": {},
          "output_type": "execute_result"
        },
        {
          "data": {
            "image/png": "[encoded data removed]",
            "text/plain": [
              "<Figure size 432x288 with 1 Axes>"
            ]
          },
          "metadata": {
            "needs_background": "light"
          },
          "output_type": "display_data"
        }
      ],
      "source": [
        "plt.plot([1,2,3,4],[1,3,5,20],'r-')"
      ]
    },
    {
      "cell_type": "code",
      "execution_count": null,
      "metadata": {
        "colab": {
          "base_uri": "https://localhost:8080/",
          "height": 283
        },
        "id": "aPcHI7sIdtM6",
        "outputId": "f8504a32-f333-45b3-e143-ea5259b7b2fc"
      },
      "outputs": [
        {
          "data": {
            "text/plain": [
              "[<matplotlib.lines.Line2D at 0x7fbfce932690>]"
            ]
          },
          "execution_count": 75,
          "metadata": {},
          "output_type": "execute_result"
        },
        {
          "data": {
            "image/png": "[encoded data removed]",
            "text/plain": [
              "<Figure size 432x288 with 1 Axes>"
            ]
          },
          "metadata": {
            "needs_background": "light"
          },
          "output_type": "display_data"
        }
      ],
      "source": [
        "plt.plot([1,2,3,4],[1,3,5,20],'r+')"
      ]
    },
    {
      "cell_type": "code",
      "execution_count": null,
      "metadata": {
        "colab": {
          "base_uri": "https://localhost:8080/",
          "height": 313
        },
        "id": "NV-_syhGdvDU",
        "outputId": "f50829e4-c65d-42b6-8641-5e778331101d"
      },
      "outputs": [
        {
          "data": {
            "text/plain": [
              "Text(0.5, 1.0, 'Population')"
            ]
          },
          "execution_count": 77,
          "metadata": {},
          "output_type": "execute_result"
        },
        {
          "data": {
            "image/png": "[encoded data removed]",
            "text/plain": [
              "<Figure size 432x288 with 1 Axes>"
            ]
          },
          "metadata": {
            "needs_background": "light"
          },
          "output_type": "display_data"
        }
      ],
      "source": [
        "plt.plot([1,2,3,4],[1,3,5,20],'r+')\n",
        "plt.xlabel('poids')\n",
        "plt.ylabel('longueur')\n",
        "plt.title('Population')"
      ]
    },
    {
      "cell_type": "code",
      "execution_count": null,
      "metadata": {
        "colab": {
          "base_uri": "https://localhost:8080/",
          "height": 313
        },
        "id": "Tg8HYFqLd3kd",
        "outputId": "98b5160c-a732-4117-eaba-913beba9d920"
      },
      "outputs": [
        {
          "data": {
            "text/plain": [
              "Text(0.5, 1.0, 'Population')"
            ]
          },
          "execution_count": 80,
          "metadata": {},
          "output_type": "execute_result"
        },
        {
          "data": {
            "image/png": "[encoded data removed]",
            "text/plain": [
              "<Figure size 432x288 with 1 Axes>"
            ]
          },
          "metadata": {
            "needs_background": "light"
          },
          "output_type": "display_data"
        }
      ],
      "source": [
        "plt.plot([1,2,3,4],[1,3,5,20],'r+', label='cats')\n",
        "plt.plot([1,2,3,4],[20,10,4,2],'bo', label='dogs')\n",
        "plt.xlabel('poids')\n",
        "plt.ylabel('longueur')\n",
        "plt.legend()\n",
        "plt.title('Population')"
      ]
    },
    {
      "cell_type": "code",
      "execution_count": null,
      "metadata": {
        "id": "p-cwQE_teDRj"
      },
      "outputs": [],
      "source": [
        "mu=np.array([1500,30])\n",
        "sigma=np.array([[1,0],[0,10000]])\n",
        "employes=multivariate_normal(mean=mu,cov=sigma,size=10)"
      ]
    },
    {
      "cell_type": "code",
      "execution_count": null,
      "metadata": {
        "colab": {
          "base_uri": "https://localhost:8080/",
          "height": 313
        },
        "id": "t2q743I8eet-",
        "outputId": "1fd235a5-5202-4f21-c65c-c7979721e905"
      },
      "outputs": [
        {
          "data": {
            "text/plain": [
              "Text(0.5, 1.0, 'Population des employés')"
            ]
          },
          "execution_count": 102,
          "metadata": {},
          "output_type": "execute_result"
        },
        {
          "data": {
            "image/png": "[encoded data removed]",
            "text/plain": [
              "<Figure size 432x288 with 1 Axes>"
            ]
          },
          "metadata": {
            "needs_background": "light"
          },
          "output_type": "display_data"
        }
      ],
      "source": [
        "plt.plot(employes[:,0],employes[:,1],'r+') #, label='empl')\n",
        "plt.xlabel('salaire')\n",
        "plt.ylabel('age')\n",
        "plt.xlim([0,2000])\n",
        "plt.ylim([-100,2000])\n",
        "plt.title('Population des employés')"
      ]
    },
    {
      "cell_type": "code",
      "execution_count": 4,
      "metadata": {
        "id": "Jwsr7xFnetQS"
      },
      "outputs": [],
      "source": [
        "# les juniors\n",
        "mu1=np.array([1000,28])\n",
        "sigma1=np.array([[5,0],[0,10]])\n",
        "juniors=multivariate_normal(mean=mu1,cov=sigma1,size=500)\n",
        "# juniors"
      ]
    },
    {
      "cell_type": "code",
      "execution_count": 5,
      "metadata": {
        "id": "qK3sFBsjgjy4"
      },
      "outputs": [],
      "source": [
        "# les seniors\n",
        "mu2=np.array([5000,55])\n",
        "sigma2=np.array([[100,0],[0,2]])\n",
        "seniors=multivariate_normal(mean=mu2,cov=sigma2,size=50)"
      ]
    },
    {
      "cell_type": "code",
      "execution_count": 2,
      "metadata": {},
      "outputs": [],
      "source": [
        "import numpy as np\n",
        "from numpy.random import standard_normal, normal, multivariate_normal\n",
        "# les juniors\n",
        "mu1=np.array([1000,28])\n",
        "sigma1=np.array([[5,0],[0,10]])\n",
        "juniors=multivariate_normal(mean=mu1,cov=sigma1,size=500)\n",
        "# juniors\n",
        "# les seniors\n",
        "mu2=np.array([5000,55])\n",
        "sigma2=np.array([[100,0],[0,2]])\n",
        "seniors=multivariate_normal(mean=mu2,cov=sigma2,size=50)"
      ]
    },
    {
      "cell_type": "code",
      "execution_count": 63,
      "metadata": {
        "colab": {
          "base_uri": "https://localhost:8080/",
          "height": 313
        },
        "id": "QcaJT91Tg_Ip",
        "outputId": "27bda4f6-f6d9-43e7-9a12-4b0d46770590"
      },
      "outputs": [
        {
          "ename": "NameError",
          "evalue": "name 'plt' is not defined",
          "output_type": "error",
          "traceback": [
            "\u001b[0;31m---------------------------------------------------------------------------\u001b[0m",
            "\u001b[0;31mNameError\u001b[0m                                 Traceback (most recent call last)",
            "Cell \u001b[0;32mIn [63], line 1\u001b[0m\n\u001b[0;32m----> 1\u001b[0m \u001b[43mplt\u001b[49m\u001b[38;5;241m.\u001b[39mplot(juniors[:,\u001b[38;5;241m0\u001b[39m],juniors[:,\u001b[38;5;241m1\u001b[39m],\u001b[38;5;124m'\u001b[39m\u001b[38;5;124mr+\u001b[39m\u001b[38;5;124m'\u001b[39m, label\u001b[38;5;241m=\u001b[39m\u001b[38;5;124m'\u001b[39m\u001b[38;5;124mjuniors\u001b[39m\u001b[38;5;124m'\u001b[39m)\n\u001b[1;32m      2\u001b[0m plt\u001b[38;5;241m.\u001b[39mplot(seniors[:,\u001b[38;5;241m0\u001b[39m],seniors[:,\u001b[38;5;241m1\u001b[39m],\u001b[38;5;124m'\u001b[39m\u001b[38;5;124mb+\u001b[39m\u001b[38;5;124m'\u001b[39m, label\u001b[38;5;241m=\u001b[39m\u001b[38;5;124m'\u001b[39m\u001b[38;5;124mseniors\u001b[39m\u001b[38;5;124m'\u001b[39m)\n\u001b[1;32m      3\u001b[0m plt\u001b[38;5;241m.\u001b[39mxlabel(\u001b[38;5;124m'\u001b[39m\u001b[38;5;124msalaire\u001b[39m\u001b[38;5;124m'\u001b[39m)\n",
            "\u001b[0;31mNameError\u001b[0m: name 'plt' is not defined"
          ]
        }
      ],
      "source": [
        "plt.plot(juniors[:,0],juniors[:,1],'r+', label='juniors')\n",
        "plt.plot(seniors[:,0],seniors[:,1],'b+', label='seniors')\n",
        "plt.xlabel('salaire')\n",
        "plt.ylabel('age')\n",
        "plt.xlim([0,7000])\n",
        "plt.ylim([0,100])\n",
        "plt.legend()\n",
        "plt.title('Population des employés')"
      ]
    },
    {
      "cell_type": "markdown",
      "metadata": {
        "id": "HcqKa_ywkKH1"
      },
      "source": [
        "**Travail demandé:**\n",
        "\n",
        "On veut decider pour un nouvel employé (requete) s'il appartient à la classe des employés seniors ou à la classe des employés jeniors ?\n",
        "  \n",
        "      Exemple: \n",
        "        \n",
        "        Nom: Safa\n",
        "        Salaire: 4500\n",
        "        Age: 46\n",
        "\n",
        "        Décision: Safa est senior\n",
        "      "
      ]
    },
    {
      "cell_type": "markdown",
      "metadata": {
        "id": "tJM8otW6mmSc"
      },
      "source": [
        "**Solution 1 (kmeans)**\n",
        "\n",
        "1. Calculer la moyenne arithmétique de chaque classe (jeniors et seniors): mu_seniors et mu_juniors\n",
        "2. Calculer la distance euclidienne entre :\n",
        "     - requete et mu_seniors\n",
        "     - requete et mu_juniors\n",
        "3. Decider en se basant sur les distances obtenues"
      ]
    },
    {
      "cell_type": "code",
      "execution_count": 2,
      "metadata": {},
      "outputs": [],
      "source": [
        "import numpy as np\n"
      ]
    },
    {
      "cell_type": "code",
      "execution_count": 7,
      "metadata": {
        "id": "CxNZ17c0hOv5"
      },
      "outputs": [],
      "source": [
        "# calculate arithmetic mean of juniors and seniors\n",
        "mu_juniors=np.array([np.mean(juniors[:,0]),np.mean(juniors[:,1])])\n",
        "mu_seniors=np.array([np.mean(seniors[:,0]),np.mean(seniors[:,1])])"
      ]
    },
    {
      "cell_type": "code",
      "execution_count": 9,
      "metadata": {},
      "outputs": [],
      "source": [
        "request = np.array([4500,46])\n",
        "distance_senior= np.linalg.norm(request-mu_seniors)\n",
        "distance_junior= np.linalg.norm(request-mu_juniors)"
      ]
    },
    {
      "cell_type": "code",
      "execution_count": 11,
      "metadata": {},
      "outputs": [
        {
          "data": {
            "text/plain": [
              "'Sonia is a senior'"
            ]
          },
          "execution_count": 11,
          "metadata": {},
          "output_type": "execute_result"
        }
      ],
      "source": [
        "\"Safa is a senior\" if distance_senior<distance_junior else \"Safa is a junior\""
      ]
    },
    {
      "cell_type": "code",
      "execution_count": 12,
      "metadata": {},
      "outputs": [
        {
          "data": {
            "text/plain": [
              "Text(0.5, 1.0, 'Population des employés')"
            ]
          },
          "execution_count": 12,
          "metadata": {},
          "output_type": "execute_result"
        },
        {
          "data": {
            "image/png": "[encoded data removed]",
            "text/plain": [
              "<Figure size 640x480 with 1 Axes>"
            ]
          },
          "metadata": {},
          "output_type": "display_data"
        }
      ],
      "source": [
        "#Visualisation\n",
        "import matplotlib.pyplot as plt\n",
        "plt.plot(juniors[:, 0], juniors[:, 1], 'r+', label='juniors')\n",
        "plt.plot(seniors[:, 0], seniors[:, 1], 'b+', label='seniors')\n",
        "plt.plot(request[0], request[1], 'g+', label='Sonia')\n",
        "plt.xlabel('salaire')\n",
        "plt.ylabel('age')\n",
        "plt.xlim([0, 7000])\n",
        "plt.ylim([0, 100])\n",
        "plt.legend()\n",
        "plt.title('Population des employés')\n"
      ]
    },
    {
      "cell_type": "markdown",
      "metadata": {
        "id": "LxUecl1xnPhG"
      },
      "source": [
        "**Solution 2 (knn)**\n",
        "\n",
        "1. Concaténer verticalement les employés seniors et juniors dans une seule matrice que vous appelez X\n",
        "  \n",
        "        Note: \n",
        "        Utiliser la fonction X=np.vstack([X1,X2])\n",
        "\n",
        "2. Génerer un vecteur labels de dimension=nombre total des employés \n",
        "\n",
        "  Ce vecteur labels contient des valeurs soit 1 ou 2 seulement comme suit :\n",
        "    - valeur 1 qui indique que l'employé est junior\n",
        "    - valeur 2 qui indique que l'employé est senior\n",
        "\n",
        "3. Calculer les distances entre requete et tous les employés X\n",
        "\n",
        "4. Trier les indices des employés par proximité à la requete (en se basant sur les distances obtenues).\n",
        "\n",
        "  Garder juste les k=5 les plus proches seulement\n",
        "\n",
        "5. En utilisant les k indices triés et les labels, determiner la classe (junior ou senior) qui est la plus proche de la requete ?"
      ]
    },
    {
      "cell_type": "code",
      "execution_count": 26,
      "metadata": {
        "id": "S78ViZfylRYC"
      },
      "outputs": [
        {
          "data": {
            "text/plain": [
              "array([[5005.29764483,   54.24421136],\n",
              "       [4989.7687625 ,   55.16843227],\n",
              "       [5013.36585693,   55.97811716],\n",
              "       ...,\n",
              "       [1001.99649302,   27.86998993],\n",
              "       [ 997.42611114,   31.38053455],\n",
              "       [1000.42245429,   28.60957535]])"
            ]
          },
          "execution_count": 26,
          "metadata": {},
          "output_type": "execute_result"
        }
      ],
      "source": [
        "employes = np.vstack([seniors,juniors])\n",
        "# add a label column to the employes matrix where 1 for junior and 0 for senior\n",
        "employes"
      ]
    },
    {
      "cell_type": "code",
      "execution_count": 31,
      "metadata": {},
      "outputs": [
        {
          "data": {
            "text/plain": [
              "array([0., 0., 0., 0., 0., 0., 0., 0., 0., 0., 0., 0., 0., 0., 0., 0., 0.,\n",
              "       0., 0., 0., 0., 0., 0., 0., 0., 0., 0., 0., 0., 0., 0., 0., 0., 0.,\n",
              "       0., 0., 0., 0., 0., 0., 0., 0., 0., 0., 0., 0., 0., 0., 0., 0.])"
            ]
          },
          "execution_count": 31,
          "metadata": {},
          "output_type": "execute_result"
        }
      ],
      "source": [
        "np.zeros(seniors.shape[0])"
      ]
    },
    {
      "cell_type": "code",
      "execution_count": 32,
      "metadata": {},
      "outputs": [],
      "source": [
        "labels = np.hstack([np.zeros(seniors.shape[0]),np.ones(juniors.shape[0])])"
      ]
    },
    {
      "cell_type": "code",
      "execution_count": 33,
      "metadata": {},
      "outputs": [
        {
          "data": {
            "text/plain": [
              "array([[5005.29764483,   54.24421136],\n",
              "       [4989.7687625 ,   55.16843227],\n",
              "       [5013.36585693,   55.97811716],\n",
              "       ...,\n",
              "       [1001.99649302,   27.86998993],\n",
              "       [ 997.42611114,   31.38053455],\n",
              "       [1000.42245429,   28.60957535]])"
            ]
          },
          "execution_count": 33,
          "metadata": {},
          "output_type": "execute_result"
        }
      ],
      "source": [
        "employes[:,0:2]"
      ]
    },
    {
      "cell_type": "code",
      "execution_count": 34,
      "metadata": {},
      "outputs": [],
      "source": [
        "distances = np.linalg.norm(employes[:,0:2]-request,axis=1)"
      ]
    },
    {
      "cell_type": "code",
      "execution_count": 36,
      "metadata": {},
      "outputs": [
        {
          "data": {
            "text/plain": [
              "array([[4967.56676743,   53.9312142 ],\n",
              "       [4974.78038019,   55.50192445],\n",
              "       [4978.76012524,   55.11800934],\n",
              "       ...,\n",
              "       [ 993.59555459,   27.76341316],\n",
              "       [ 993.4506103 ,   33.23431094],\n",
              "       [ 991.73655444,   28.30055687]])"
            ]
          },
          "execution_count": 36,
          "metadata": {},
          "output_type": "execute_result"
        }
      ],
      "source": [
        "order=np.argsort(distances)\n",
        "employes[order,:]\n"
      ]
    },
    {
      "cell_type": "code",
      "execution_count": 37,
      "metadata": {},
      "outputs": [
        {
          "data": {
            "text/plain": [
              "array([0., 0., 0., 0., 0., 0., 0., 0., 0., 0., 0., 0., 0., 0., 0., 0., 0.,\n",
              "       0., 0., 0., 0., 0., 0., 0., 0., 0., 0., 0., 0., 0., 0., 0., 0., 0.,\n",
              "       0., 0., 0., 0., 0., 0., 0., 0., 0., 0., 0., 0., 0., 0., 0., 0., 1.,\n",
              "       1., 1., 1., 1., 1., 1., 1., 1., 1., 1., 1., 1., 1., 1., 1., 1., 1.,\n",
              "       1., 1., 1., 1., 1., 1., 1., 1., 1., 1., 1., 1., 1., 1., 1., 1., 1.,\n",
              "       1., 1., 1., 1., 1., 1., 1., 1., 1., 1., 1., 1., 1., 1., 1., 1., 1.,\n",
              "       1., 1., 1., 1., 1., 1., 1., 1., 1., 1., 1., 1., 1., 1., 1., 1., 1.,\n",
              "       1., 1., 1., 1., 1., 1., 1., 1., 1., 1., 1., 1., 1., 1., 1., 1., 1.,\n",
              "       1., 1., 1., 1., 1., 1., 1., 1., 1., 1., 1., 1., 1., 1., 1., 1., 1.,\n",
              "       1., 1., 1., 1., 1., 1., 1., 1., 1., 1., 1., 1., 1., 1., 1., 1., 1.,\n",
              "       1., 1., 1., 1., 1., 1., 1., 1., 1., 1., 1., 1., 1., 1., 1., 1., 1.,\n",
              "       1., 1., 1., 1., 1., 1., 1., 1., 1., 1., 1., 1., 1., 1., 1., 1., 1.,\n",
              "       1., 1., 1., 1., 1., 1., 1., 1., 1., 1., 1., 1., 1., 1., 1., 1., 1.,\n",
              "       1., 1., 1., 1., 1., 1., 1., 1., 1., 1., 1., 1., 1., 1., 1., 1., 1.,\n",
              "       1., 1., 1., 1., 1., 1., 1., 1., 1., 1., 1., 1., 1., 1., 1., 1., 1.,\n",
              "       1., 1., 1., 1., 1., 1., 1., 1., 1., 1., 1., 1., 1., 1., 1., 1., 1.,\n",
              "       1., 1., 1., 1., 1., 1., 1., 1., 1., 1., 1., 1., 1., 1., 1., 1., 1.,\n",
              "       1., 1., 1., 1., 1., 1., 1., 1., 1., 1., 1., 1., 1., 1., 1., 1., 1.,\n",
              "       1., 1., 1., 1., 1., 1., 1., 1., 1., 1., 1., 1., 1., 1., 1., 1., 1.,\n",
              "       1., 1., 1., 1., 1., 1., 1., 1., 1., 1., 1., 1., 1., 1., 1., 1., 1.,\n",
              "       1., 1., 1., 1., 1., 1., 1., 1., 1., 1., 1., 1., 1., 1., 1., 1., 1.,\n",
              "       1., 1., 1., 1., 1., 1., 1., 1., 1., 1., 1., 1., 1., 1., 1., 1., 1.,\n",
              "       1., 1., 1., 1., 1., 1., 1., 1., 1., 1., 1., 1., 1., 1., 1., 1., 1.,\n",
              "       1., 1., 1., 1., 1., 1., 1., 1., 1., 1., 1., 1., 1., 1., 1., 1., 1.,\n",
              "       1., 1., 1., 1., 1., 1., 1., 1., 1., 1., 1., 1., 1., 1., 1., 1., 1.,\n",
              "       1., 1., 1., 1., 1., 1., 1., 1., 1., 1., 1., 1., 1., 1., 1., 1., 1.,\n",
              "       1., 1., 1., 1., 1., 1., 1., 1., 1., 1., 1., 1., 1., 1., 1., 1., 1.,\n",
              "       1., 1., 1., 1., 1., 1., 1., 1., 1., 1., 1., 1., 1., 1., 1., 1., 1.,\n",
              "       1., 1., 1., 1., 1., 1., 1., 1., 1., 1., 1., 1., 1., 1., 1., 1., 1.,\n",
              "       1., 1., 1., 1., 1., 1., 1., 1., 1., 1., 1., 1., 1., 1., 1., 1., 1.,\n",
              "       1., 1., 1., 1., 1., 1., 1., 1., 1., 1., 1., 1., 1., 1., 1., 1., 1.,\n",
              "       1., 1., 1., 1., 1., 1., 1., 1., 1., 1., 1., 1., 1., 1., 1., 1., 1.,\n",
              "       1., 1., 1., 1., 1., 1.])"
            ]
          },
          "execution_count": 37,
          "metadata": {},
          "output_type": "execute_result"
        }
      ],
      "source": [
        "labels[order]"
      ]
    },
    {
      "cell_type": "code",
      "execution_count": 38,
      "metadata": {},
      "outputs": [
        {
          "data": {
            "text/plain": [
              "array([0., 0., 0., 0., 0.])"
            ]
          },
          "execution_count": 38,
          "metadata": {},
          "output_type": "execute_result"
        }
      ],
      "source": [
        "k=5\n",
        "labels[order[0:k]]"
      ]
    },
    {
      "cell_type": "code",
      "execution_count": 39,
      "metadata": {},
      "outputs": [
        {
          "name": "stdout",
          "output_type": "stream",
          "text": [
            "Sonia is a senior\n"
          ]
        }
      ],
      "source": [
        "if np.sum(labels[order[0:k]])>k/2:\n",
        "  print(\"Safa is a junior\")\n",
        "else:\n",
        "    print(\"Safa is a senior\")"
      ]
    },
    {
      "cell_type": "markdown",
      "metadata": {
        "id": "2ZXMqKAbwayt"
      },
      "source": [
        "**Solution 3 (gmm):**\n",
        "\n",
        "1. Estimer la loi gaussienne (mu,sigma) de chacune de 2 classes de population (seniors et juniors :\n",
        " - G_seniors : mu_seniors et sigma_seniors des seniors\n",
        " - G_juniors : mu_geniors et sigma_geniors des juniors\n",
        "\n",
        "  Note: Utiliser les fonctions suivantes:\n",
        " - np.mean(X) pour calculer la moyenne arithmétique\n",
        " - np.cov(X.T) pour calculer la covariance\n",
        "\n",
        "2. Calculer la vraisemblance de la requete dans chaque classe\n",
        "\n",
        "  *Note*: La vraisemblance d'une donnée selon une classe est la probabilité de cette donnée selon la loi qui caractérise la classe.\n",
        "  \n",
        "  - La vraisemblance de la requete selon la classe seniors :\n",
        " \n",
        "    vrais_requete_seniors =  probabilité de requete selon la loi normale multivariée (mu_seniors , sigma_seniors)\n",
        "  - La vraisemblance de la requete selon la classe juniors :\n",
        "    vrais_requete_juniors =  probabilité de requete selon la loi normale multivariée (mu_juniors , sigma_juniors)\n",
        "\n",
        "  *Note*: Utiliser la fonction pdf de la classe multivariate_normal de module scipy.stats comme suit :\n",
        "          Exemple: Soit la loi normale multivariée G=(mu,sigma). \n",
        "          La probabilité de x selon la loi G est calculé comme suit :\n",
        "          mn=multivariate_normal(mu,sigma)\n",
        "          mn.pdf(x)\n",
        "\n",
        "3. Calculer la probabilité prior de chaque classe:\n",
        "\n",
        "  *Note*: La probabilité prior d'une classe est le poids de la classe dans la population globale.\n",
        "\n",
        " - proba_prior_seniors=cardinal_seniors/nombre total d'employés\n",
        " - proba_prior_juniors=cardinal_juniors/nombre total d'employés\n",
        "\n",
        "4. Pour décider sur l'appartenance d'un employé à une classe, on peut utiliser le théorème de Bayes. \n",
        "\n",
        "  *Note*: Théorème de Bayes\n",
        "  La probailité posterior = probabilité n va appliquer le théoreme de Bayes pour calculer la probabilté posterior de la requete étant donn é chaque classe comme suit :\n",
        "- proba_post_requete_seniors = vrais_requete_seniors x proba_prior_seniors\n",
        "- proba_post_requete_juniors = vrais_requete_juniors x proba_prior_juniors\n",
        "\n",
        "  L'employé requete appartient à la classe qui donne la probabilté posterior la plus elevée\n",
        "\n"
      ]
    },
    {
      "cell_type": "code",
      "execution_count": 17,
      "metadata": {},
      "outputs": [
        {
          "data": {
            "text/plain": [
              "486.2569422217193"
            ]
          },
          "execution_count": 17,
          "metadata": {},
          "output_type": "execute_result"
        }
      ],
      "source": [
        "juniors.std()"
      ]
    },
    {
      "cell_type": "code",
      "execution_count": 18,
      "metadata": {},
      "outputs": [
        {
          "data": {
            "text/plain": [
              "2470.8406130155536"
            ]
          },
          "execution_count": 18,
          "metadata": {},
          "output_type": "execute_result"
        }
      ],
      "source": [
        "seniors.std()"
      ]
    },
    {
      "cell_type": "code",
      "execution_count": 3,
      "metadata": {},
      "outputs": [],
      "source": [
        "# Safa is an employee with a salary of 4500 and an age of 46. Determine if he is a junior or a senior using the GMM algorithm\n",
        "import numpy as np\n",
        "import matplotlib.pyplot as plt\n",
        "request = np.array([4500,46])\n",
        "# juniors and seniors are already defined\n",
        "\n",
        "# calculate arithmetic mean of juniors and seniors\n",
        "mu_juniors=np.array([np.mean(juniors[:,0]),np.mean(juniors[:,1])])\n",
        "mu_seniors=np.array([np.mean(seniors[:,0]),np.mean(seniors[:,1])])\n",
        "\n",
        "# calculate the distance between the request and the mean of juniors and seniors"
      ]
    },
    {
      "cell_type": "code",
      "execution_count": 12,
      "metadata": {},
      "outputs": [
        {
          "name": "stdout",
          "output_type": "stream",
          "text": [
            "Safa is a senior\n"
          ]
        }
      ],
      "source": [
        "import numpy as np\n",
        "from scipy.stats import multivariate_normal\n",
        "\n",
        "# juniors and seniors are already defined\n",
        "\n",
        "# calculate arithmetic mean of juniors and seniors\n",
        "mu_juniors=np.array([np.mean(juniors[:,0]),np.mean(juniors[:,1])])\n",
        "mu_seniors=np.array([np.mean(seniors[:,0]),np.mean(seniors[:,1])])\n"
      ]
    },
    {
      "cell_type": "code",
      "execution_count": 15,
      "metadata": {},
      "outputs": [
        {
          "data": {
            "text/plain": [
              "array([[ 4.46688407, -0.38044215],\n",
              "       [-0.38044215,  9.96646388]])"
            ]
          },
          "execution_count": 15,
          "metadata": {},
          "output_type": "execute_result"
        }
      ],
      "source": [
        "\n",
        "# calculate the covariance matrix of juniors and seniors\n",
        "sigma_juniors=np.cov(juniors[:,0],juniors[:,1])\n",
        "sigma_seniors=np.cov(seniors[:,0],seniors[:,1])\n",
        "sigma_juniors"
      ]
    },
    {
      "cell_type": "code",
      "execution_count": 25,
      "metadata": {},
      "outputs": [
        {
          "data": {
            "text/plain": [
              "0.9999999962266231"
            ]
          },
          "execution_count": 25,
          "metadata": {},
          "output_type": "execute_result"
        }
      ],
      "source": [
        "multivariate_normal.cdf(request,mean=mu_juniors,cov=sigma_juniors)"
      ]
    },
    {
      "cell_type": "code",
      "execution_count": 26,
      "metadata": {},
      "outputs": [
        {
          "data": {
            "text/plain": [
              "0.0"
            ]
          },
          "execution_count": 26,
          "metadata": {},
          "output_type": "execute_result"
        }
      ],
      "source": [
        "multivariate_normal.cdf(request,mean=mu_seniors,cov=sigma_seniors)"
      ]
    },
    {
      "cell_type": "code",
      "execution_count": 33,
      "metadata": {},
      "outputs": [],
      "source": [
        "\n",
        "# calculate the likelihood of the request for juniors and seniors\n",
        "likelihood_juniors=multivariate_normal.logpdf(request,mean=mu_juniors,cov=sigma_juniors)\n",
        "likelihood_seniors=multivariate_normal.logpdf(request,mean=mu_seniors,cov=sigma_seniors)\n"
      ]
    },
    {
      "cell_type": "code",
      "execution_count": 34,
      "metadata": {},
      "outputs": [
        {
          "data": {
            "text/plain": [
              "-1376040.029455818"
            ]
          },
          "execution_count": 34,
          "metadata": {},
          "output_type": "execute_result"
        }
      ],
      "source": [
        "multivariate_normal.logpdf(request,mean=mu_juniors,cov=sigma_juniors)"
      ]
    },
    {
      "cell_type": "code",
      "execution_count": 35,
      "metadata": {},
      "outputs": [
        {
          "data": {
            "text/plain": [
              "-1186.478421613906"
            ]
          },
          "execution_count": 35,
          "metadata": {},
          "output_type": "execute_result"
        }
      ],
      "source": [
        "multivariate_normal.logpdf(request,mean=mu_seniors,cov=sigma_seniors)"
      ]
    },
    {
      "cell_type": "code",
      "execution_count": 36,
      "metadata": {},
      "outputs": [],
      "source": [
        "\n",
        "# calculate the prior probability of juniors and seniors\n",
        "prior_juniors=juniors.shape[0]/(juniors.shape[0]+seniors.shape[0])\n",
        "prior_seniors=seniors.shape[0]/(juniors.shape[0]+seniors.shape[0])\n"
      ]
    },
    {
      "cell_type": "code",
      "execution_count": 37,
      "metadata": {},
      "outputs": [],
      "source": [
        "\n",
        "# calculate the posterior probability of juniors and seniors\n",
        "posterior_juniors=likelihood_juniors*prior_juniors\n",
        "posterior_seniors=likelihood_seniors*prior_seniors\n"
      ]
    },
    {
      "cell_type": "code",
      "execution_count": 40,
      "metadata": {},
      "outputs": [
        {
          "data": {
            "text/plain": [
              "11597.682725523662"
            ]
          },
          "execution_count": 40,
          "metadata": {},
          "output_type": "execute_result"
        }
      ],
      "source": [
        "posterior_juniors/posterior_seniors"
      ]
    },
    {
      "cell_type": "code",
      "execution_count": 41,
      "metadata": {},
      "outputs": [
        {
          "data": {
            "text/plain": [
              "-1250945.4813234708"
            ]
          },
          "execution_count": 41,
          "metadata": {},
          "output_type": "execute_result"
        }
      ],
      "source": [
        "posterior_juniors"
      ]
    },
    {
      "cell_type": "code",
      "execution_count": 42,
      "metadata": {},
      "outputs": [
        {
          "data": {
            "text/plain": [
              "-107.86167469217328"
            ]
          },
          "execution_count": 42,
          "metadata": {},
          "output_type": "execute_result"
        }
      ],
      "source": [
        "posterior_seniors"
      ]
    },
    {
      "cell_type": "code",
      "execution_count": 38,
      "metadata": {},
      "outputs": [
        {
          "data": {
            "text/plain": [
              "0.09090909090909091"
            ]
          },
          "execution_count": 38,
          "metadata": {},
          "output_type": "execute_result"
        }
      ],
      "source": [
        "prior_seniors"
      ]
    },
    {
      "cell_type": "code",
      "execution_count": 39,
      "metadata": {},
      "outputs": [
        {
          "name": "stdout",
          "output_type": "stream",
          "text": [
            "Safa is a senior\n"
          ]
        }
      ],
      "source": [
        "\n",
        "# determine if the request is a junior or a senior\n",
        "if posterior_juniors>posterior_seniors:\n",
        "    print(\"Safa is a junior\")\n",
        "else:\n",
        "    print(\"Safa is a senior\")"
      ]
    },
    {
      "cell_type": "code",
      "execution_count": 9,
      "metadata": {},
      "outputs": [],
      "source": [
        "mu_seniors = np.array([np.mean(seniors[:, 0]), np.mean(seniors[:, 1])])\n",
        "mu_juniors = np.array([np.mean(juniors[:, 0]), np.mean(juniors[:, 1])])"
      ]
    },
    {
      "cell_type": "code",
      "execution_count": 4,
      "metadata": {},
      "outputs": [],
      "source": [
        "sigma_seniors = np.cov(seniors[:, 0], seniors[:, 1])\n",
        "sigma_juniors = np.cov(juniors[:, 0], juniors[:, 1])"
      ]
    },
    {
      "cell_type": "code",
      "execution_count": 37,
      "metadata": {},
      "outputs": [
        {
          "data": {
            "text/plain": [
              "array([[ 4.58370875, -0.5425574 ],\n",
              "       [-0.5425574 ,  9.28130938]])"
            ]
          },
          "execution_count": 37,
          "metadata": {},
          "output_type": "execute_result"
        }
      ],
      "source": [
        "sigma_juniors"
      ]
    },
    {
      "cell_type": "code",
      "execution_count": 38,
      "metadata": {},
      "outputs": [
        {
          "data": {
            "text/plain": [
              "array([[99.77358004, -1.0057479 ],\n",
              "       [-1.0057479 ,  2.71267287]])"
            ]
          },
          "execution_count": 38,
          "metadata": {},
          "output_type": "execute_result"
        }
      ],
      "source": [
        "sigma_seniors"
      ]
    },
    {
      "cell_type": "code",
      "execution_count": 5,
      "metadata": {},
      "outputs": [],
      "source": [
        "from scipy.stats import multivariate_normal as mvn"
      ]
    },
    {
      "cell_type": "code",
      "execution_count": 6,
      "metadata": {},
      "outputs": [],
      "source": [
        "Gaussian_seniors = mvn(mu_seniors, sigma_seniors)\n",
        "Gaussian_juniors = mvn(mu_juniors, sigma_juniors)"
      ]
    },
    {
      "cell_type": "code",
      "execution_count": 44,
      "metadata": {},
      "outputs": [
        {
          "data": {
            "text/plain": [
              "<scipy.stats._multivariate.multivariate_normal_frozen at 0x7fa79968feb0>"
            ]
          },
          "execution_count": 44,
          "metadata": {},
          "output_type": "execute_result"
        }
      ],
      "source": [
        "Gaussian_juniors"
      ]
    },
    {
      "cell_type": "code",
      "execution_count": 42,
      "metadata": {},
      "outputs": [
        {
          "data": {
            "text/plain": [
              "0.0"
            ]
          },
          "execution_count": 42,
          "metadata": {},
          "output_type": "execute_result"
        }
      ],
      "source": [
        "mvn.pdf(request, mu_seniors, sigma_seniors)"
      ]
    },
    {
      "cell_type": "code",
      "execution_count": 17,
      "metadata": {},
      "outputs": [],
      "source": [
        "request = np.array([4500, 46])"
      ]
    },
    {
      "cell_type": "code",
      "execution_count": 45,
      "metadata": {},
      "outputs": [
        {
          "data": {
            "text/plain": [
              "0.0"
            ]
          },
          "execution_count": 45,
          "metadata": {},
          "output_type": "execute_result"
        }
      ],
      "source": [
        "Gaussian_seniors.pdf([1000,28])"
      ]
    },
    {
      "cell_type": "code",
      "execution_count": 7,
      "metadata": {},
      "outputs": [],
      "source": [
        "vraisemblance_senior = Gaussian_seniors.pdf(request)"
      ]
    },
    {
      "cell_type": "code",
      "execution_count": 8,
      "metadata": {},
      "outputs": [],
      "source": [
        "vraisemblance_junior = Gaussian_juniors.pdf(request)"
      ]
    },
    {
      "cell_type": "code",
      "execution_count": 10,
      "metadata": {},
      "outputs": [
        {
          "data": {
            "text/plain": [
              "0.0"
            ]
          },
          "execution_count": 10,
          "metadata": {},
          "output_type": "execute_result"
        }
      ],
      "source": [
        "vraisemblance_junior"
      ]
    },
    {
      "cell_type": "code",
      "execution_count": 11,
      "metadata": {},
      "outputs": [
        {
          "data": {
            "text/plain": [
              "0.0"
            ]
          },
          "execution_count": 11,
          "metadata": {},
          "output_type": "execute_result"
        }
      ],
      "source": [
        "vraisemblance_junior - vraisemblance_senior"
      ]
    },
    {
      "cell_type": "code",
      "execution_count": 22,
      "metadata": {},
      "outputs": [],
      "source": [
        "employes = np.vstack([seniors, juniors])"
      ]
    },
    {
      "cell_type": "code",
      "execution_count": 23,
      "metadata": {},
      "outputs": [],
      "source": [
        "prior_senior = seniors.shape[0] / employes.shape[0]\n",
        "prior_junior = juniors.shape[0] / employes.shape[0]"
      ]
    },
    {
      "cell_type": "code",
      "execution_count": null,
      "metadata": {},
      "outputs": [],
      "source": []
    },
    {
      "cell_type": "code",
      "execution_count": 24,
      "metadata": {},
      "outputs": [],
      "source": [
        "posterior_senior = prior_senior * vraisemblance_senior\n",
        "posterior_junior = prior_junior * vraisemblance_junior"
      ]
    },
    {
      "cell_type": "code",
      "execution_count": 34,
      "metadata": {},
      "outputs": [
        {
          "data": {
            "text/plain": [
              "0.0"
            ]
          },
          "execution_count": 34,
          "metadata": {},
          "output_type": "execute_result"
        }
      ],
      "source": [
        "vraisemblance_senior"
      ]
    },
    {
      "cell_type": "code",
      "execution_count": 43,
      "metadata": {},
      "outputs": [
        {
          "name": "stdout",
          "output_type": "stream",
          "text": [
            "Sonia is a junior\n"
          ]
        }
      ],
      "source": [
        "if posterior_senior > posterior_junior:\n",
        "    print(\"Safa is a senior\")\n",
        "else:\n",
        "    print(\"Safa is a junior\")"
      ]
    },
    {
      "cell_type": "code",
      "execution_count": null,
      "metadata": {},
      "outputs": [],
      "source": []
    }
  ],
  "metadata": {
    "colab": {
      "collapsed_sections": [],
      "provenance": []
    },
    "kernelspec": {
      "display_name": "Python 3.10.6 64-bit",
      "language": "python",
      "name": "python3"
    },
    "language_info": {
      "codemirror_mode": {
        "name": "ipython",
        "version": 3
      },
      "file_extension": ".py",
      "mimetype": "text/x-python",
      "name": "python",
      "nbconvert_exporter": "python",
      "pygments_lexer": "ipython3",
      "version": "3.10.6"
    },
    "vscode": {
      "interpreter": {
        "hash": "d2152fd7f0bbc62aa1baff8c990435d1e2c7175d001561303988032604c11a48"
      }
    }
  },
  "nbformat": 4,
  "nbformat_minor": 0
}
